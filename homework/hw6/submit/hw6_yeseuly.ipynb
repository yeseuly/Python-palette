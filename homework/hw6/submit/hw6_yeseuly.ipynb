{
 "cells": [
  {
   "cell_type": "markdown",
   "metadata": {},
   "source": [
    "# Homework #6\n",
    "\n",
    "- Date: 2024.04.28\n",
    "- Due Date: 2024.05.01"
   ]
  },
  {
   "cell_type": "code",
   "execution_count": 1,
   "metadata": {},
   "outputs": [],
   "source": [
    "import pandas as pd\n",
    "import numpy as np\n",
    "import matplotlib.pyplot as plt"
   ]
  },
  {
   "cell_type": "markdown",
   "metadata": {},
   "source": [
    "### Package Install\n",
    "\n",
    "- conda activate palette-basic\n",
    "- pip install statsmodels\n",
    "- pip install plotly"
   ]
  },
  {
   "cell_type": "markdown",
   "metadata": {},
   "source": [
    "### 기본사용\n",
    "\n",
    "- 추세선은 Scatter Plot과 함께 사용됩니다."
   ]
  },
  {
   "cell_type": "code",
   "execution_count": 2,
   "metadata": {},
   "outputs": [],
   "source": [
    "import plotly.express as px\n",
    "\n",
    "df = px.data.tips()"
   ]
  },
  {
   "cell_type": "markdown",
   "metadata": {},
   "source": [
    "- trendline = {\"ols\", \"lowess\", \"rolling\", \"ewm\", \"expanding\" } 추세선의 종류를 선택합니다.\n",
    "    - ols : ordinary least square의 약자로 최소자승법으로 회귀 모델\n",
    "    - lowess : locally weighted scatterplot smoothing\n",
    "    - rolling : 기본 이동 평균선\n",
    "    - expanding : Cumulative 이동 평균선\n",
    "    - ewm : exponentially weighted 이동평균선"
   ]
  },
  {
   "cell_type": "markdown",
   "metadata": {},
   "source": [
    "Color 를 통해 범주형 데이터를 분류하면 각 범주 별 추세선을 각각 추가합니다."
   ]
  },
  {
   "cell_type": "code",
   "execution_count": null,
   "metadata": {},
   "outputs": [],
   "source": []
  },
  {
   "cell_type": "markdown",
   "metadata": {},
   "source": [
    "만약 Color로 범주형 데이터를 분류하고 추세선은 전체 데이터를 활용해서 구분하고 싶다면 trendline_scope=\"overall\" 로 지정합니다."
   ]
  },
  {
   "cell_type": "code",
   "execution_count": null,
   "metadata": {},
   "outputs": [],
   "source": []
  },
  {
   "cell_type": "markdown",
   "metadata": {},
   "source": [
    "### 추세선 결과 Table 보기\n",
    "- 추세선인 포함되어 그려진 Figure 객체를 활용해서 여러가지 지표가 포함되어 있는 결과테이블 조회가 가능합니다."
   ]
  },
  {
   "cell_type": "code",
   "execution_count": null,
   "metadata": {},
   "outputs": [],
   "source": []
  },
  {
   "cell_type": "markdown",
   "metadata": {},
   "source": [
    "### OLS 로그 함수로 피팅하기\n",
    "- trendline_options=dict(log_x=True) 로 설정하면 로그 함수로 피팅을 합니다."
   ]
  },
  {
   "cell_type": "code",
   "execution_count": null,
   "metadata": {},
   "outputs": [],
   "source": []
  },
  {
   "cell_type": "markdown",
   "metadata": {},
   "source": [
    "### Locally Weighted Scatterplot Smoothing (LOWESS)\n",
    "- LOWESS 추세선은 Local regression 또는r local polynomial regression 이라고 불리며 ols 와 moving average를 generalization 한 추세선 방법입니다. 자세한 설명은 해당 링크를 통해 확인 가능합니다.\n",
    "- trendline=\"lowess\" 로 설정합니다."
   ]
  },
  {
   "cell_type": "code",
   "execution_count": null,
   "metadata": {},
   "outputs": [],
   "source": []
  },
  {
   "cell_type": "markdown",
   "metadata": {},
   "source": [
    "위에 그래프는 너무 추세가 뭉게져서 나온 느낌입니다. 이럴경우 LOWESS 의 smoothing 정도를 변경하여 수정이 가능합니다."
   ]
  },
  {
   "cell_type": "code",
   "execution_count": null,
   "metadata": {},
   "outputs": [],
   "source": []
  },
  {
   "cell_type": "markdown",
   "metadata": {},
   "source": [
    "trendline_options=dict(frac=0.1) : frac 을 0.1로 낮춰 좀 더 Local 범위에 유사하게 추종할수 있게 수정하였습니다. (디폴트 frac = 0.666)"
   ]
  },
  {
   "cell_type": "markdown",
   "metadata": {},
   "source": [
    "## 이동 평균선\n",
    "### 기본 이동평균선\n",
    "- trendline : \"rolling\" 으로 설정합니다.\n",
    "- trendline_options : 평균을 구할 window size를 설정합니다. ."
   ]
  },
  {
   "cell_type": "code",
   "execution_count": null,
   "metadata": {},
   "outputs": [],
   "source": []
  },
  {
   "cell_type": "markdown",
   "metadata": {},
   "source": [
    "### exponentially weighted 이동평균선\n",
    "- trendline : \"ewm\" 으로 설정합니다.\n",
    "- trendline_options : 반감기(halflife) 를 설정합니다."
   ]
  },
  {
   "cell_type": "code",
   "execution_count": null,
   "metadata": {},
   "outputs": [],
   "source": []
  },
  {
   "cell_type": "markdown",
   "metadata": {},
   "source": [
    "## Cumulative 이동 평균선\n",
    "- trendline : \"expanding\" 으로 설정합니다."
   ]
  },
  {
   "cell_type": "code",
   "execution_count": null,
   "metadata": {},
   "outputs": [],
   "source": []
  },
  {
   "cell_type": "markdown",
   "metadata": {},
   "source": [
    "## 추세선만 그리기\n",
    "- fig.data 의 mode 가 lines 인 것만 남기는 코드를 추가합니다."
   ]
  },
  {
   "cell_type": "code",
   "execution_count": null,
   "metadata": {},
   "outputs": [],
   "source": []
  },
  {
   "cell_type": "code",
   "execution_count": null,
   "metadata": {},
   "outputs": [],
   "source": []
  }
 ],
 "metadata": {
  "kernelspec": {
   "display_name": "palette-basic",
   "language": "python",
   "name": "python3"
  },
  "language_info": {
   "codemirror_mode": {
    "name": "ipython",
    "version": 3
   },
   "file_extension": ".py",
   "mimetype": "text/x-python",
   "name": "python",
   "nbconvert_exporter": "python",
   "pygments_lexer": "ipython3",
   "version": "3.12.2"
  }
 },
 "nbformat": 4,
 "nbformat_minor": 2
}
