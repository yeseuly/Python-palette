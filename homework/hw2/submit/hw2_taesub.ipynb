{
 "cells": [
  {
   "cell_type": "markdown",
   "metadata": {},
   "source": [
    "# Homework #2\n",
    "\n",
    "- Date: 2024.03.17\n",
    "- Due Date: 2024.04.07"
   ]
  },
  {
   "cell_type": "code",
   "execution_count": 8,
   "metadata": {},
   "outputs": [],
   "source": [
    "import pandas as pd\n",
    "import numpy as np\n",
    "import matplotlib.pyplot as plt"
   ]
  },
  {
   "cell_type": "markdown",
   "metadata": {},
   "source": [
    "[함께해보기] \"Diabetes Classificiation.csv\" 파일을 불러오고, 남성과 여성의 평균 나이를 출력하세요.\n",
    "- 남성 최대, 최소 나이도 구해보세요\n",
    "- 여성 최대, 최소 나이도 구해보세요"
   ]
  },
  {
   "cell_type": "code",
   "execution_count": 12,
   "metadata": {},
   "outputs": [
    {
     "name": "stdout",
     "output_type": "stream",
     "text": [
      "남자의 평균 나이: 48.84244471744472\n",
      "여자의 평균 나이: 49.1344\n",
      "남자의 최대 나이: 91\n",
      "여자의 최대 나이: 93\n",
      "남자의 최소 나이: 22\n",
      "여자의 최소 나이: 20\n"
     ]
    }
   ],
   "source": [
    "import pandas as pd\n",
    "import numpy as np\n",
    "import matplotlib.pyplot as plt\n",
    "\n",
    "\n",
    "df = pd.read_csv('../Diabetes Classification.csv')\n",
    "\n",
    "male = df[df['Gender'] == 'M']\n",
    "female = df[df['Gender'] == 'F'] \n",
    "\n",
    "avg_age_male = male['Age'].mean()\n",
    "avg_age_female = female['Age'].mean()\n",
    "max_age_male = male['Age'].max()\n",
    "max_age_female = female['Age'].max()\n",
    "min_age_male = male['Age'].min()\n",
    "min_age_female = female['Age'].min()\n",
    "\n",
    "\n",
    "\n",
    "print(\"남자의 평균 나이:\", avg_age_male)\n",
    "print(\"여자의 평균 나이:\", avg_age_female)\n",
    "print(\"남자의 최대 나이:\", max_age_male)\n",
    "print(\"여자의 최대 나이:\", max_age_female)\n",
    "print(\"남자의 최소 나이:\", min_age_male)\n",
    "print(\"여자의 최소 나이:\", min_age_female)"
   ]
  },
  {
   "cell_type": "markdown",
   "metadata": {},
   "source": []
  },
  {
   "cell_type": "markdown",
   "metadata": {},
   "source": [
    "[문제1] 30대 이상 여성의 평균 BMI와 Chol 수치는 얼마인가요?"
   ]
  },
  {
   "cell_type": "code",
   "execution_count": 13,
   "metadata": {},
   "outputs": [
    {
     "name": "stdout",
     "output_type": "stream",
     "text": [
      "BMI 수치: 0       24\n",
      "3       21\n",
      "4       24\n",
      "7       24\n",
      "8       23\n",
      "        ..\n",
      "5119    28\n",
      "5120    23\n",
      "5121    22\n",
      "5128    22\n",
      "5130    29\n",
      "Name: BMI, Length: 1728, dtype: int64\n",
      "Chol 수치: 0       4.20\n",
      "3       2.90\n",
      "4       3.60\n",
      "7       3.80\n",
      "8       3.60\n",
      "        ... \n",
      "5119    4.00\n",
      "5120    3.80\n",
      "5121    5.57\n",
      "5128    4.37\n",
      "5130    5.91\n",
      "Name: Chol, Length: 1728, dtype: float64\n"
     ]
    }
   ],
   "source": [
    "'''data_male = data[data['Gender'] == \"M\"]\n",
    "data_female = data[data['Gender'] == \"F\"]\n",
    "\n",
    "\n",
    "print(\"남성평균나이: \" + str(np.mean(data_male[\"Age\"])))\n",
    "\n",
    "BMI_avg = str(np.mean(data_female[\"BMI\"]))\n",
    "Chol_avg = str(np.mean(data_female[\"Chol\"]))'''\n",
    "\n",
    "female_30 = female[female['Age'] >= 30]\n",
    "print(\"BMI 수치:\", female_30['BMI'])\n",
    "print(\"Chol 수치:\", female_30['Chol'])"
   ]
  },
  {
   "cell_type": "markdown",
   "metadata": {},
   "source": [
    "[문제2] 당뇨병에 걸린 사람(Diagnosis==1)의 남녀 비율은 어떻게 되나요? 평균 연령은 어떻게 되나요?\n",
    "- 당뇨병에 걸리지 않은 사람들은 총 몇명인가요?\n",
    "- 당뇨병에 걸리지 않은 남녀 비율은 어떻게 되나요?"
   ]
  },
  {
   "cell_type": "code",
   "execution_count": 14,
   "metadata": {},
   "outputs": [
    {
     "name": "stdout",
     "output_type": "stream",
     "text": [
      "당뇨병 남자 비율 :  61.966884094330155\n",
      "당뇨병 여자 비율 :  38.033115905669845\n",
      "평균 나이 :  58.19819367787255\n"
     ]
    }
   ],
   "source": [
    "df = pd.read_csv('../Diabetes Classification.csv')\n",
    "Diag = df[df['Diagnosis'] == 1]\n",
    "non_Diag = df[df['Diagnosis'] == 0]\n",
    "\n",
    "Diag_all = len(Diag)\n",
    "Diag_male = len(Diag[Diag['Gender'] == 'M'])\n",
    "Diag_female = Diag_all - Diag_male\n",
    "\n",
    "male_ratio = Diag_male*100/Diag_all\n",
    "female_ratio = Diag_female*100/Diag_all\n",
    "\n",
    "print(\"당뇨병 남자 비율 : \", male_ratio)\n",
    "print(\"당뇨병 여자 비율 : \", female_ratio)\n",
    "\n",
    "Diag_age_avg = Diag['Age'].mean()\n",
    "print(\"평균 나이 : \", Diag_age_avg)"
   ]
  },
  {
   "cell_type": "markdown",
   "metadata": {},
   "source": [
    "[문제3] 당뇨병에 걸린 사람들의 혈액검사 수치 결과와 당뇨병에 걸리지 않은 사람들의 혈액검사 수치 결과는 어떻게 다른가요? \n",
    "(자유분석)\n",
    "- 예) 당뇨병에 걸린 사람들의 콜레스테롤 수치가 당뇨병을 걸리지 않은 사람들의 콜레스테롤 수치보다 *** 이상 높다."
   ]
  },
  {
   "cell_type": "code",
   "execution_count": 15,
   "metadata": {},
   "outputs": [
    {
     "name": "stdout",
     "output_type": "stream",
     "text": [
      "당뇨병에 걸린 사람들의 콜레스테롤 수치의 평균은 0.2693910146708127 더 높다.\n"
     ]
    }
   ],
   "source": [
    "Diag_chol = Diag['Chol'].mean()\n",
    "non_Diag_chol = non_Diag['Chol'].mean()\n",
    "delta = Diag_chol - non_Diag_chol\n",
    "\n",
    "print(\"당뇨병에 걸린 사람들의 콜레스테롤 수치의 평균은\", delta, \"더 높다.\")"
   ]
  },
  {
   "cell_type": "code",
   "execution_count": null,
   "metadata": {},
   "outputs": [],
   "source": []
  }
 ],
 "metadata": {
  "kernelspec": {
   "display_name": "Python 3",
   "language": "python",
   "name": "python3"
  },
  "language_info": {
   "codemirror_mode": {
    "name": "ipython",
    "version": 3
   },
   "file_extension": ".py",
   "mimetype": "text/x-python",
   "name": "python",
   "nbconvert_exporter": "python",
   "pygments_lexer": "ipython3",
   "version": "3.12.2"
  }
 },
 "nbformat": 4,
 "nbformat_minor": 2
}
