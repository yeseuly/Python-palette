{
 "cells": [
  {
   "cell_type": "markdown",
   "metadata": {},
   "source": [
    "# Homework #2\n",
    "\n",
    "- Date: 2024.03.17\n",
    "- Due Date: 2024.04.07"
   ]
  },
  {
   "cell_type": "code",
   "execution_count": 1,
   "metadata": {},
   "outputs": [],
   "source": [
    "import pandas as pd\n",
    "import numpy as np\n",
    "import matplotlib.pyplot as plt"
   ]
  },
  {
   "cell_type": "markdown",
   "metadata": {},
   "source": [
    "[함께해보기] \"Diabetes Classificiation.csv\" 파일을 불러오고, 남성과 여성의 평균 나이를 출력하세요.\n",
    "- 남성 최대, 최소 나이도 구해보세요\n",
    "- 여성 최대, 최소 나이도 구해보세요"
   ]
  },
  {
   "cell_type": "code",
   "execution_count": 2,
   "metadata": {},
   "outputs": [],
   "source": [
    "data = pd.read_csv(\"../Diabetes Classification.csv\")"
   ]
  },
  {
   "cell_type": "code",
   "execution_count": 6,
   "metadata": {},
   "outputs": [],
   "source": [
    "data_male = data[data['Gender']=='M']\n",
    "data_female = data[data['Gender']=='F']"
   ]
  },
  {
   "cell_type": "code",
   "execution_count": 12,
   "metadata": {},
   "outputs": [
    {
     "data": {
      "text/plain": [
       "48.84244471744472"
      ]
     },
     "execution_count": 12,
     "metadata": {},
     "output_type": "execute_result"
    }
   ],
   "source": [
    "np.mean(data_female['Age'])\n",
    "np.mean(data_male['Age'])"
   ]
  },
  {
   "cell_type": "code",
   "execution_count": 15,
   "metadata": {},
   "outputs": [
    {
     "name": "stdout",
     "output_type": "stream",
     "text": [
      "남성평균나이: 48.84244471744472\n",
      "여성평균나이: 49.1344\n",
      "남성최대나이: 91\n",
      "여성최대나이: 93\n",
      "남성최소나이: 22\n",
      "여성최소나이: 20\n"
     ]
    }
   ],
   "source": [
    "print(\"남성평균나이: \"+str(np.mean(data_male[\"Age\"])))\n",
    "print(\"여성평균나이: \"+str(np.mean(data_female[\"Age\"])))\n",
    "print(\"남성최대나이: \"+str(np.max(data_male[\"Age\"])))\n",
    "print(\"여성최대나이: \"+str(np.max(data_female[\"Age\"])))\n",
    "print(\"남성최소나이: \"+str(np.min(data_male[\"Age\"])))\n",
    "print(\"여성최소나이: \"+str(np.min(data_female[\"Age\"])))"
   ]
  },
  {
   "cell_type": "markdown",
   "metadata": {},
   "source": [
    "[문제1] 30대 이상 여성의 평균 BMI와 Chol 수치는 얼마인가요?"
   ]
  },
  {
   "cell_type": "code",
   "execution_count": null,
   "metadata": {},
   "outputs": [],
   "source": []
  },
  {
   "cell_type": "code",
   "execution_count": null,
   "metadata": {},
   "outputs": [],
   "source": []
  },
  {
   "cell_type": "markdown",
   "metadata": {},
   "source": [
    "[문제2] 당뇨병에 걸린 사람(Diagnosis==1)의 남녀 비율은 어떻게 되나요? 평균 연령은 어떻게 되나요?\n",
    "- 당뇨병에 걸리지 않은 사람들은 총 몇명인가요?\n",
    "- 당뇨병에 걸리지 않은 남녀 비율은 어떻게 되나요?"
   ]
  },
  {
   "cell_type": "code",
   "execution_count": null,
   "metadata": {},
   "outputs": [],
   "source": []
  },
  {
   "cell_type": "markdown",
   "metadata": {},
   "source": [
    "[문제3] 당뇨병에 걸린 사람들의 혈액검사 수치 결과와 당뇨병에 걸리지 않은 사람들의 혈액검사 수치 결과는 어떻게 다른가요? \n",
    "(자유분석)\n",
    "- 예) 당뇨병에 걸린 사람들의 콜레스테롤 수치가 당뇨병을 걸리지 않은 사람들의 콜레스테롤 수치보다 *** 이상 높다."
   ]
  },
  {
   "cell_type": "code",
   "execution_count": null,
   "metadata": {},
   "outputs": [],
   "source": []
  }
 ],
 "metadata": {
  "kernelspec": {
   "display_name": "Python 3",
   "language": "python",
   "name": "python3"
  },
  "language_info": {
   "codemirror_mode": {
    "name": "ipython",
    "version": 3
   },
   "file_extension": ".py",
   "mimetype": "text/x-python",
   "name": "python",
   "nbconvert_exporter": "python",
   "pygments_lexer": "ipython3",
   "version": "3.7.1"
  }
 },
 "nbformat": 4,
 "nbformat_minor": 2
}
