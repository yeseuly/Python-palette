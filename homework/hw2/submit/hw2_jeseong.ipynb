{
 "cells": [
  {
   "cell_type": "markdown",
   "metadata": {},
   "source": [
    "# Homework #2\n",
    "\n",
    "- Date: 2024.03.17\n",
    "- Due Date: 2024.04.07"
   ]
  },
  {
   "cell_type": "code",
   "execution_count": 3,
   "metadata": {},
   "outputs": [],
   "source": [
    "import pandas as pd\n",
    "import numpy as np\n",
    "import matplotlib.pyplot as plt"
   ]
  },
  {
   "cell_type": "markdown",
   "metadata": {},
   "source": [
    "[함께해보기] \"Diabetes Classificiation.csv\" 파일을 불러오고, 남성과 여성의 평균 나이를 출력하세요.\n",
    "- 남성 최대, 최소 나이도 구해보세요\n",
    "- 여성 최대, 최소 나이도 구해보세요"
   ]
  },
  {
   "cell_type": "code",
   "execution_count": 4,
   "metadata": {},
   "outputs": [],
   "source": [
    "data = pd.read_csv(\"../Diabetes Classification.csv\")"
   ]
  },
  {
   "cell_type": "code",
   "execution_count": 74,
   "metadata": {},
   "outputs": [
    {
     "name": "stdout",
     "output_type": "stream",
     "text": [
      "      Unnamed: 0  Age Gender  BMI  Chol    TG       HDL       LDL    Cr   BUN  \\\n",
      "0              0   50      F   24  4.20  0.90  2.400000  1.400000  46.0  4.70   \n",
      "3              3   45      F   21  2.90  1.00  1.000000  1.500000  24.0  2.30   \n",
      "4              4   50      F   24  3.60  1.30  0.900000  2.100000  50.0  2.00   \n",
      "7              7   32      F   24  3.80  2.00  2.400000  3.800000  28.0  3.60   \n",
      "8              8   31      F   23  3.60  0.70  1.700000  1.600000  55.0  4.40   \n",
      "...          ...  ...    ...  ...   ...   ...       ...       ...   ...   ...   \n",
      "5119        5119   59      F   28  4.00  1.00  1.000000  2.000000  56.0  5.00   \n",
      "5120        5120   46      F   23  3.80  1.20  1.190000  2.180000  52.0  4.37   \n",
      "5121        5121   60      F   22  5.57  1.67  4.860753  4.860753  61.8  6.10   \n",
      "5128        5128   50      F   22  4.37  2.09  1.370000  2.290000  47.3  4.40   \n",
      "5130        5130   60      F   29  5.91  1.29  1.730000  2.850000  50.2  7.33   \n",
      "\n",
      "      Diagnosis  \n",
      "0             0  \n",
      "3             0  \n",
      "4             0  \n",
      "7             0  \n",
      "8             0  \n",
      "...         ...  \n",
      "5119          1  \n",
      "5120          1  \n",
      "5121          1  \n",
      "5128          1  \n",
      "5130          1  \n",
      "\n",
      "[1875 rows x 11 columns]\n"
     ]
    }
   ],
   "source": [
    "data_male = data[data['Gender']=='M']\n",
    "data_female = data[data['Gender']=='F']\n",
    "print(data_female)"
   ]
  },
  {
   "cell_type": "code",
   "execution_count": 12,
   "metadata": {},
   "outputs": [
    {
     "data": {
      "text/plain": [
       "48.84244471744472"
      ]
     },
     "execution_count": 12,
     "metadata": {},
     "output_type": "execute_result"
    }
   ],
   "source": [
    "np.mean(data_female['Age'])\n",
    "np.mean(data_male['Age'])"
   ]
  },
  {
   "cell_type": "code",
   "execution_count": 15,
   "metadata": {},
   "outputs": [
    {
     "name": "stdout",
     "output_type": "stream",
     "text": [
      "남성평균나이: 48.84244471744472\n",
      "여성평균나이: 49.1344\n",
      "남성최대나이: 91\n",
      "여성최대나이: 93\n",
      "남성최소나이: 22\n",
      "여성최소나이: 20\n"
     ]
    }
   ],
   "source": [
    "print(\"남성평균나이: \"+str(np.mean(data_male[\"Age\"])))\n",
    "print(\"여성평균나이: \"+str(np.mean(data_female[\"Age\"])))\n",
    "print(\"남성최대나이: \"+str(np.max(data_male[\"Age\"])))\n",
    "print(\"여성최대나이: \"+str(np.max(data_female[\"Age\"])))\n",
    "print(\"남성최소나이: \"+str(np.min(data_male[\"Age\"])))\n",
    "print(\"여성최소나이: \"+str(np.min(data_female[\"Age\"])))"
   ]
  },
  {
   "cell_type": "markdown",
   "metadata": {},
   "source": [
    "[문제1] 30대 이상 여성의 평균 BMI와 Chol 수치는 얼마인가요?"
   ]
  },
  {
   "cell_type": "code",
   "execution_count": 9,
   "metadata": {},
   "outputs": [
    {
     "data": {
      "text/plain": [
       "23.768533333333334"
      ]
     },
     "execution_count": 9,
     "metadata": {},
     "output_type": "execute_result"
    }
   ],
   "source": [
    "np.mean(data_female['Chol'])\n",
    "np.mean(data_female['BMI'])"
   ]
  },
  {
   "cell_type": "code",
   "execution_count": 82,
   "metadata": {},
   "outputs": [
    {
     "name": "stdout",
     "output_type": "stream",
     "text": [
      "      Unnamed: 0  Age Gender  BMI  Chol    TG       HDL       LDL    Cr   BUN  \\\n",
      "0              0   50      F   24  4.20  0.90  2.400000  1.400000  46.0  4.70   \n",
      "3              3   45      F   21  2.90  1.00  1.000000  1.500000  24.0  2.30   \n",
      "4              4   50      F   24  3.60  1.30  0.900000  2.100000  50.0  2.00   \n",
      "7              7   32      F   24  3.80  2.00  2.400000  3.800000  28.0  3.60   \n",
      "8              8   31      F   23  3.60  0.70  1.700000  1.600000  55.0  4.40   \n",
      "...          ...  ...    ...  ...   ...   ...       ...       ...   ...   ...   \n",
      "5119        5119   59      F   28  4.00  1.00  1.000000  2.000000  56.0  5.00   \n",
      "5120        5120   46      F   23  3.80  1.20  1.190000  2.180000  52.0  4.37   \n",
      "5121        5121   60      F   22  5.57  1.67  4.860753  4.860753  61.8  6.10   \n",
      "5128        5128   50      F   22  4.37  2.09  1.370000  2.290000  47.3  4.40   \n",
      "5130        5130   60      F   29  5.91  1.29  1.730000  2.850000  50.2  7.33   \n",
      "\n",
      "      Diagnosis  \n",
      "0             0  \n",
      "3             0  \n",
      "4             0  \n",
      "7             0  \n",
      "8             0  \n",
      "...         ...  \n",
      "5119          1  \n",
      "5120          1  \n",
      "5121          1  \n",
      "5128          1  \n",
      "5130          1  \n",
      "\n",
      "[1728 rows x 11 columns]\n"
     ]
    },
    {
     "name": "stderr",
     "output_type": "stream",
     "text": [
      "c:\\Users\\himen\\anaconda3\\envs\\palette-basic\\lib\\site-packages\\ipykernel_launcher.py:1: UserWarning: Boolean Series key will be reindexed to match DataFrame index.\n",
      "  \"\"\"Entry point for launching an IPython kernel.\n"
     ]
    }
   ],
   "source": [
    "over30 = data_female[data['Age']>=30]\n",
    "print(over30)"
   ]
  },
  {
   "cell_type": "code",
   "execution_count": 85,
   "metadata": {},
   "outputs": [
    {
     "name": "stdout",
     "output_type": "stream",
     "text": [
      "30대 이상 여성 평균 BMI: 24.07465277777778\n",
      "30대 이상 여성 평균 Chol: 4.981610103587957\n"
     ]
    }
   ],
   "source": [
    "print(\"30대 이상 여성 평균 BMI: \"+str(np.mean(over30['BMI'])))\n",
    "print(\"30대 이상 여성 평균 Chol: \"+str(np.mean(over30['Chol'])))\n"
   ]
  },
  {
   "cell_type": "markdown",
   "metadata": {},
   "source": [
    "[문제2] 당뇨병에 걸린 사람(Diagnosis==1)의 남녀 비율은 어떻게 되나요? 평균 연령은 어떻게 되나요?\n",
    "- 당뇨병에 걸리지 않은 사람들은 총 몇명인가요?\n",
    "- 당뇨병에 걸리지 않은 남녀 비율은 어떻게 되나요?"
   ]
  },
  {
   "cell_type": "code",
   "execution_count": 99,
   "metadata": {},
   "outputs": [
    {
     "name": "stderr",
     "output_type": "stream",
     "text": [
      "c:\\Users\\himen\\anaconda3\\envs\\palette-basic\\lib\\site-packages\\ipykernel_launcher.py:3: UserWarning: Boolean Series key will be reindexed to match DataFrame index.\n",
      "  This is separate from the ipykernel package so we can avoid doing imports until\n",
      "c:\\Users\\himen\\anaconda3\\envs\\palette-basic\\lib\\site-packages\\ipykernel_launcher.py:4: UserWarning: Boolean Series key will be reindexed to match DataFrame index.\n",
      "  after removing the cwd from sys.path.\n",
      "c:\\Users\\himen\\anaconda3\\envs\\palette-basic\\lib\\site-packages\\ipykernel_launcher.py:5: UserWarning: Boolean Series key will be reindexed to match DataFrame index.\n",
      "  \"\"\"\n",
      "c:\\Users\\himen\\anaconda3\\envs\\palette-basic\\lib\\site-packages\\ipykernel_launcher.py:6: UserWarning: Boolean Series key will be reindexed to match DataFrame index.\n",
      "  \n"
     ]
    },
    {
     "ename": "AttributeError",
     "evalue": "module 'numpy' has no attribute 'count'",
     "output_type": "error",
     "traceback": [
      "\u001b[1;31m---------------------------------------------------------------------------\u001b[0m",
      "\u001b[1;31mAttributeError\u001b[0m                            Traceback (most recent call last)",
      "\u001b[1;32m~\\AppData\\Local\\Temp\\ipykernel_5304\\3877043480.py\u001b[0m in \u001b[0;36m<module>\u001b[1;34m\u001b[0m\n\u001b[0;32m      5\u001b[0m \u001b[0mUndia_male\u001b[0m \u001b[1;33m=\u001b[0m \u001b[0mUndia\u001b[0m\u001b[1;33m[\u001b[0m\u001b[0mdata\u001b[0m\u001b[1;33m[\u001b[0m\u001b[1;34m'Gender'\u001b[0m\u001b[1;33m]\u001b[0m\u001b[1;33m==\u001b[0m\u001b[1;34m'M'\u001b[0m\u001b[1;33m]\u001b[0m\u001b[1;33m\u001b[0m\u001b[1;33m\u001b[0m\u001b[0m\n\u001b[0;32m      6\u001b[0m \u001b[0mUndia_female\u001b[0m \u001b[1;33m=\u001b[0m \u001b[0mUndia\u001b[0m\u001b[1;33m[\u001b[0m\u001b[0mdata\u001b[0m\u001b[1;33m[\u001b[0m\u001b[1;34m'Gender'\u001b[0m\u001b[1;33m]\u001b[0m\u001b[1;33m==\u001b[0m\u001b[1;34m'F'\u001b[0m\u001b[1;33m]\u001b[0m\u001b[1;33m\u001b[0m\u001b[1;33m\u001b[0m\u001b[0m\n\u001b[1;32m----> 7\u001b[1;33m \u001b[0mnp\u001b[0m\u001b[1;33m.\u001b[0m\u001b[0mcount\u001b[0m\u001b[1;33m(\u001b[0m\u001b[0mDia_male\u001b[0m\u001b[1;33m)\u001b[0m\u001b[1;33m\u001b[0m\u001b[1;33m\u001b[0m\u001b[0m\n\u001b[0m\u001b[0;32m      8\u001b[0m \u001b[0mprint\u001b[0m\u001b[1;33m(\u001b[0m\u001b[1;34m\"당뇨 남성 평균 나이: \"\u001b[0m\u001b[1;33m+\u001b[0m\u001b[0mstr\u001b[0m\u001b[1;33m(\u001b[0m\u001b[0mnp\u001b[0m\u001b[1;33m.\u001b[0m\u001b[0mmean\u001b[0m\u001b[1;33m(\u001b[0m\u001b[0mDia_male\u001b[0m\u001b[1;33m[\u001b[0m\u001b[1;34m'Age'\u001b[0m\u001b[1;33m]\u001b[0m\u001b[1;33m)\u001b[0m\u001b[1;33m)\u001b[0m\u001b[1;33m)\u001b[0m\u001b[1;33m\u001b[0m\u001b[1;33m\u001b[0m\u001b[0m\n\u001b[0;32m      9\u001b[0m \u001b[0mprint\u001b[0m\u001b[1;33m(\u001b[0m\u001b[1;34m\"당뇨 여성 평균 나이: \"\u001b[0m\u001b[1;33m+\u001b[0m\u001b[0mstr\u001b[0m\u001b[1;33m(\u001b[0m\u001b[0mnp\u001b[0m\u001b[1;33m.\u001b[0m\u001b[0mmean\u001b[0m\u001b[1;33m(\u001b[0m\u001b[0mDia_female\u001b[0m\u001b[1;33m[\u001b[0m\u001b[1;34m'Age'\u001b[0m\u001b[1;33m]\u001b[0m\u001b[1;33m)\u001b[0m\u001b[1;33m)\u001b[0m\u001b[1;33m)\u001b[0m\u001b[1;33m\u001b[0m\u001b[1;33m\u001b[0m\u001b[0m\n",
      "\u001b[1;32mc:\\Users\\himen\\anaconda3\\envs\\palette-basic\\lib\\site-packages\\numpy\\__init__.py\u001b[0m in \u001b[0;36m__getattr__\u001b[1;34m(attr)\u001b[0m\n\u001b[0;32m    312\u001b[0m \u001b[1;33m\u001b[0m\u001b[0m\n\u001b[0;32m    313\u001b[0m             raise AttributeError(\"module {!r} has no attribute \"\n\u001b[1;32m--> 314\u001b[1;33m                                  \"{!r}\".format(__name__, attr))\n\u001b[0m\u001b[0;32m    315\u001b[0m \u001b[1;33m\u001b[0m\u001b[0m\n\u001b[0;32m    316\u001b[0m         \u001b[1;32mdef\u001b[0m \u001b[0m__dir__\u001b[0m\u001b[1;33m(\u001b[0m\u001b[1;33m)\u001b[0m\u001b[1;33m:\u001b[0m\u001b[1;33m\u001b[0m\u001b[1;33m\u001b[0m\u001b[0m\n",
      "\u001b[1;31mAttributeError\u001b[0m: module 'numpy' has no attribute 'count'"
     ]
    }
   ],
   "source": [
    "Dia = data[data['Diagnosis']==1]\n",
    "Undia = data[data['Diagnosis']==0]\n",
    "Dia_male = Dia[data['Gender']=='M']\n",
    "Dia_female = Dia[data['Gender']=='F']\n",
    "Undia_male = Undia[data['Gender']=='M']\n",
    "Undia_female = Undia[data['Gender']=='F']\n",
    "np.count(Dia_male)\n",
    "print(\"당뇨 남성 평균 나이: \"+str(np.mean(Dia_male['Age'])))\n",
    "print(\"당뇨 여성 평균 나이: \"+str(np.mean(Dia_female['Age'])))"
   ]
  },
  {
   "cell_type": "code",
   "execution_count": 93,
   "metadata": {},
   "outputs": [
    {
     "name": "stdout",
     "output_type": "stream",
     "text": [
      "당뇨 남성 평균 나이: 58.067206477732796\n",
      "당뇨 여성 평균 나이: 58.41611624834874\n",
      "미당뇨 남성 평균 나이: 43.20534388916378\n",
      "미당뇨 여성 평균 나이: 42.849731663685155\n"
     ]
    }
   ],
   "source": [
    "print(\"당뇨 남성 평균 나이: \"+str(np.mean(Dia_male['Age'])))\n",
    "print(\"당뇨 여성 평균 나이: \"+str(np.mean(Dia_female['Age'])))\n",
    "print(\"미당뇨 남성 평균 나이: \"+str(np.mean(Undia_male['Age'])))\n",
    "print(\"미당뇨 여성 평균 나이: \"+str(np.mean(Undia_female['Age'])))"
   ]
  },
  {
   "cell_type": "markdown",
   "metadata": {},
   "source": [
    "[문제3] 당뇨병에 걸린 사람들의 혈액검사 수치 결과와 당뇨병에 걸리지 않은 사람들의 혈액검사 수치 결과는 어떻게 다른가요? \n",
    "(자유분석)\n",
    "- 예) 당뇨병에 걸린 사람들의 콜레스테롤 수치가 당뇨병을 걸리지 않은 사람들의 콜레스테롤 수치보다 *** 이상 높다."
   ]
  },
  {
   "cell_type": "code",
   "execution_count": null,
   "metadata": {},
   "outputs": [],
   "source": []
  }
 ],
 "metadata": {
  "kernelspec": {
   "display_name": "Python 3",
   "language": "python",
   "name": "python3"
  },
  "language_info": {
   "codemirror_mode": {
    "name": "ipython",
    "version": 3
   },
   "file_extension": ".py",
   "mimetype": "text/x-python",
   "name": "python",
   "nbconvert_exporter": "python",
   "pygments_lexer": "ipython3",
   "version": "3.7.1"
  }
 },
 "nbformat": 4,
 "nbformat_minor": 2
}
