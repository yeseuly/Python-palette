{
 "cells": [
  {
   "cell_type": "markdown",
   "metadata": {},
   "source": [
    "# Homework #2\n",
    "\n",
    "- Date: 2024.03.17\n",
    "- Due Date: 2024.04.07"
   ]
  },
  {
   "cell_type": "code",
   "execution_count": 61,
   "metadata": {},
   "outputs": [],
   "source": [
    "import pandas as pd\n",
    "import numpy as np\n",
    "import matplotlib.pyplot as plt"
   ]
  },
  {
   "cell_type": "code",
   "execution_count": 62,
   "metadata": {},
   "outputs": [],
   "source": [
    "data = pd.read_csv(\"../Diabetes Classification.csv\")"
   ]
  },
  {
   "cell_type": "code",
   "execution_count": 63,
   "metadata": {},
   "outputs": [
    {
     "data": {
      "text/plain": [
       "Index(['Unnamed: 0', 'Age', 'Gender', 'BMI', 'Chol', 'TG', 'HDL', 'LDL', 'Cr',\n",
       "       'BUN', 'Diagnosis'],\n",
       "      dtype='object')"
      ]
     },
     "execution_count": 63,
     "metadata": {},
     "output_type": "execute_result"
    }
   ],
   "source": [
    "data.columns"
   ]
  },
  {
   "cell_type": "markdown",
   "metadata": {},
   "source": [
    "[함께해보기] \"Diabetes Classificiation.csv\" 파일을 불러오고, 남성과 여성의 평균 나이를 출력하세요.\n",
    "- 남성 최대, 최소 나이도 구해보세요\n",
    "- 여성 최대, 최소 나이도 구해보세요"
   ]
  },
  {
   "cell_type": "code",
   "execution_count": 64,
   "metadata": {},
   "outputs": [],
   "source": [
    "data_male = data[data['Gender']==\"M\"] #data에서 남자 Male만 추출한 것\n",
    "data_female = data[data['Gender']==\"F\"]\n"
   ]
  },
  {
   "cell_type": "code",
   "execution_count": 67,
   "metadata": {},
   "outputs": [
    {
     "data": {
      "text/plain": [
       "1       26\n",
       "2       33\n",
       "5       48\n",
       "6       43\n",
       "13      50\n",
       "        ..\n",
       "5125    77\n",
       "5126    31\n",
       "5127    54\n",
       "5129    67\n",
       "5131    37\n",
       "Name: Age, Length: 3256, dtype: int64"
      ]
     },
     "execution_count": 67,
     "metadata": {},
     "output_type": "execute_result"
    }
   ],
   "source": [
    "data_male[\"Age\"] #남자의 나이\n"
   ]
  },
  {
   "cell_type": "code",
   "execution_count": 10,
   "metadata": {},
   "outputs": [
    {
     "data": {
      "text/plain": [
       "48.84244471744472"
      ]
     },
     "execution_count": 10,
     "metadata": {},
     "output_type": "execute_result"
    }
   ],
   "source": [
    "np.mean(data_male[\"Age\"])"
   ]
  },
  {
   "cell_type": "code",
   "execution_count": 11,
   "metadata": {},
   "outputs": [
    {
     "name": "stdout",
     "output_type": "stream",
     "text": [
      "남성평균나이: 48.84244471744472\n",
      "여성평균나이: 49.1344\n",
      "남성MAX나이: 91\n",
      "여성MAX나이: 93\n",
      "남성MIN나이: 22\n",
      "여성MIN나이: 20\n"
     ]
    }
   ],
   "source": [
    "print(\"남성평균나이:\",np.mean(data_male[\"Age\"]))  # print(\"남성평균나이:\"+str(np.mean(data_male[\"Age\"])))\n",
    "print(\"여성평균나이:\",np.mean(data_female[\"Age\"]))\n",
    "\n",
    "print(\"남성MAX나이:\",np.max(data_male[\"Age\"]))\n",
    "print(\"여성MAX나이:\",np.max(data_female[\"Age\"]))\n",
    "\n",
    "print(\"남성MIN나이:\",np.min(data_male[\"Age\"]))\n",
    "print(\"여성MIN나이:\",np.min(data_female[\"Age\"]))"
   ]
  },
  {
   "cell_type": "markdown",
   "metadata": {},
   "source": [
    "[문제1] 30대 이상 여성의 평균 BMI와 Chol 수치는 얼마인가요?"
   ]
  },
  {
   "cell_type": "code",
   "execution_count": 128,
   "metadata": {},
   "outputs": [
    {
     "name": "stdout",
     "output_type": "stream",
     "text": [
      "[50 45 50 ... 22 22 29]\n",
      "23.768533333333334\n",
      "4.940134939733334\n"
     ]
    }
   ],
   "source": [
    "female_Age = data_female[\"Age\"]\n",
    "female_BMI = data_female[\"BMI\"]\n",
    "female_Chol = data_female[\"Chol\"]\n",
    "\n",
    "list_female_Age = list(female_Age)  # list_female_Age == 여성나이 리스트\n",
    "#print(list_female_Age)\n",
    "list_female_BMI = list(female_BMI)   # list_female_BMI == 여성BMI 리스트\n",
    "#print(list_female_BMI)\n",
    "list_female_Chol = list(female_Chol)  # list_female_Chol == 여성콜레스테롤 리스트\n",
    "#print(list_female_Chol)\n",
    "\n",
    "array_female_Age = np.array(list_female_Age)\n",
    "array_female_BMI = np.array(list_female_BMI)\n",
    "array_female_Chol = np.array(list_female_Chol)\n",
    "\n",
    "array_female = np.concatenate([array_female_Age, array_female_BMI], axis=0)\n",
    "\n",
    "print(array_female)\n",
    "\n",
    "print(np.mean(female_BMI))\n",
    "print(np.mean(female_Chol))"
   ]
  },
  {
   "cell_type": "markdown",
   "metadata": {},
   "source": [
    "[문제2] 당뇨병에 걸린 사람(Diagnosis==1)의 남녀 비율은 어떻게 되나요? 평균 연령은 어떻게 되나요?\n",
    "- 당뇨병에 걸리지 않은 사람들은 총 몇명인가요?\n",
    "- 당뇨병에 걸리지 않은 남녀 비율은 어떻게 되나요?"
   ]
  },
  {
   "cell_type": "code",
   "execution_count": 113,
   "metadata": {},
   "outputs": [
    {
     "name": "stdout",
     "output_type": "stream",
     "text": [
      "당뇨병에 걸린사람의 평균연령은:  58.19819367787255\n",
      "당뇨병에 걸리지 않은 사람의 평균연령은:  43.0786874800892\n",
      "당뇨병에 걸린 남자와 여자의 비율은  남 1235  :  여 757\n",
      "당뇨병에 걸리지않은 남자와 여자의 비율은  남 2021  :  여 1118\n"
     ]
    }
   ],
   "source": [
    "data_Diagnosis1 = data[data[\"Diagnosis\"]==1]\n",
    "data_Diagnosis0 = data[data[\"Diagnosis\"]==0]\n",
    "\n",
    "print(\"당뇨병에 걸린사람의 평균연령은: \", np.mean(data_Diagnosis1[\"Age\"]))\n",
    "print(\"당뇨병에 걸리지 않은 사람의 평균연령은: \", np.mean(data_Diagnosis0[\"Age\"]))\n",
    "남자당뇨O = data_Diagnosis1[data_Diagnosis1[\"Gender\"]==\"M\"]\n",
    "여자당뇨O = data_Diagnosis1[data_Diagnosis1[\"Gender\"]==\"F\"]\n",
    "남자당뇨X = data_Diagnosis0[data_Diagnosis0[\"Gender\"]==\"M\"]\n",
    "여자당뇨X = data_Diagnosis0[data_Diagnosis0[\"Gender\"]==\"F\"]\n",
    "\n",
    "print(\"당뇨병에 걸린 남자와 여자의 비율은 \", \"남\",len(남자당뇨O), \" : \",\"여\",len(여자당뇨O))\n",
    "print(\"당뇨병에 걸리지않은 남자와 여자의 비율은 \", \"남\",len(남자당뇨X), \" : \",\"여\",len(여자당뇨X))"
   ]
  },
  {
   "cell_type": "markdown",
   "metadata": {},
   "source": [
    "[문제3] 당뇨병에 걸린 사람들의 혈액검사 수치 결과와 당뇨병에 걸리지 않은 사람들의 혈액검사 수치 결과는 어떻게 다른가요? \n",
    "(자유분석)\n",
    "- 예) 당뇨병에 걸린 사람들의 콜레스테롤 수치가 당뇨병을 걸리지 않은 사람들의 콜레스테롤 수치보다 *** 이상 높다."
   ]
  },
  {
   "cell_type": "code",
   "execution_count": 126,
   "metadata": {},
   "outputs": [
    {
     "name": "stdout",
     "output_type": "stream",
     "text": [
      "당뇨병걸린사람의 평균Chol 수치는 5.03165606723532\n",
      "당뇨병 안걸린사람의 평균Chol 수치는 4.762265052564502\n",
      "\n",
      "\n",
      "당뇨병걸린사람의 평균HDL 수치는 1.9968788173607492\n",
      "당뇨병 안걸린사람의 평균HDL 수치는 1.3370691302962727\n",
      "\n",
      "\n",
      "당뇨병걸린사람의 평균LDL 수치는 3.187675204214739\n",
      "당뇨병 안걸린사람의 평균LDL 수치는 2.740436444727615\n"
     ]
    }
   ],
   "source": [
    "print(\"당뇨병걸린사람의 평균Chol 수치는\", np.mean(data_Diagnosis1[\"Chol\"]))\n",
    "print(\"당뇨병 안걸린사람의 평균Chol 수치는\", np.mean(data_Diagnosis0[\"Chol\"]))\n",
    "print(\"\\n\")\n",
    "print(\"당뇨병걸린사람의 평균HDL 수치는\",np.mean(data_Diagnosis1[\"HDL\"]))\n",
    "print(\"당뇨병 안걸린사람의 평균HDL 수치는\",np.mean(data_Diagnosis0[\"HDL\"]))\n",
    "print(\"\\n\")\n",
    "print(\"당뇨병걸린사람의 평균LDL 수치는\",np.mean(data_Diagnosis1[\"LDL\"]))\n",
    "print(\"당뇨병 안걸린사람의 평균LDL 수치는\",np.mean(data_Diagnosis0[\"LDL\"]))\n"
   ]
  },
  {
   "cell_type": "code",
   "execution_count": null,
   "metadata": {},
   "outputs": [],
   "source": []
  }
 ],
 "metadata": {
  "kernelspec": {
   "display_name": "Python 3",
   "language": "python",
   "name": "python3"
  },
  "language_info": {
   "codemirror_mode": {
    "name": "ipython",
    "version": 3
   },
   "file_extension": ".py",
   "mimetype": "text/x-python",
   "name": "python",
   "nbconvert_exporter": "python",
   "pygments_lexer": "ipython3",
   "version": "3.7.1"
  }
 },
 "nbformat": 4,
 "nbformat_minor": 2
}
