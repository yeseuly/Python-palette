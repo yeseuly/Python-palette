{
 "cells": [
  {
   "cell_type": "markdown",
   "metadata": {},
   "source": [
    "# Homework #4\n",
    "\n",
    "- Date: 2024.04.07\n",
    "- Due Date: 2024.04.14"
   ]
  },
  {
   "cell_type": "code",
   "execution_count": 2,
   "metadata": {},
   "outputs": [],
   "source": [
    "import pandas as pd\n",
    "import numpy as np\n",
    "import matplotlib.pyplot as plt"
   ]
  },
  {
   "cell_type": "code",
   "execution_count": 4,
   "metadata": {},
   "outputs": [],
   "source": [
    "data = pd.read_csv(\"data/Coffee_Qlty.csv\")"
   ]
  },
  {
   "cell_type": "markdown",
   "metadata": {},
   "source": [
    "[문제1] 커피 데이터의 대륙별 레코드 비율이 어떻게 되나요? 대륙별 커피원두의 색상 분포를 확인해주세요! (nan 제외)\n",
    "- ['Continent.of.Origin'] = ['Africa', 'North America', 'South America', 'Asia', 'Oceania', nan]\n",
    "- ['Color'] = ['Green', nan, 'Bluish-Green', 'Blue-Green']"
   ]
  },
  {
   "cell_type": "code",
   "execution_count": null,
   "metadata": {},
   "outputs": [],
   "source": []
  },
  {
   "cell_type": "markdown",
   "metadata": {},
   "source": [
    "[문제2] 커피원두 대륙별 + 색상별로 산도가 얼마나 다른가요? 산도를 확인할 수 있는 그래프를 그려주세요. (data['Acidity]>6)\n",
    "- data_acidity = data_*[data_*['Acidity']>6] (data_*: 특정대륙데이터)\n",
    "- plt.hist(data_acidity['Acidity'], bins=100, edgecolor='black')"
   ]
  },
  {
   "cell_type": "code",
   "execution_count": null,
   "metadata": {},
   "outputs": [],
   "source": []
  },
  {
   "cell_type": "markdown",
   "metadata": {},
   "source": [
    "[문제3] 커피 데이터의 나라별 레코드 비율이 어떻게 되나요? 나라별 커피원두의 색상 분포를 확인해주세요!\n",
    "- 'Ethiopia', 'Colombia', 'Vietnam', 'China', 'Brazil'"
   ]
  },
  {
   "cell_type": "code",
   "execution_count": null,
   "metadata": {},
   "outputs": [],
   "source": []
  },
  {
   "cell_type": "markdown",
   "metadata": {},
   "source": [
    "[문제4] 커피원두 나라별 + 색상별로 산도가 얼마나 다른가요? 산도를 확인할 수 있는 그래프를 그려주세요. "
   ]
  },
  {
   "cell_type": "code",
   "execution_count": null,
   "metadata": {},
   "outputs": [],
   "source": []
  }
 ],
 "metadata": {
  "kernelspec": {
   "display_name": "palette-basic",
   "language": "python",
   "name": "python3"
  },
  "language_info": {
   "codemirror_mode": {
    "name": "ipython",
    "version": 3
   },
   "file_extension": ".py",
   "mimetype": "text/x-python",
   "name": "python",
   "nbconvert_exporter": "python",
   "pygments_lexer": "ipython3",
   "version": "3.12.2"
  }
 },
 "nbformat": 4,
 "nbformat_minor": 2
}
