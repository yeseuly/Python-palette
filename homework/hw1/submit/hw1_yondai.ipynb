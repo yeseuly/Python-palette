{
 "cells": [
  {
   "cell_type": "markdown",
   "metadata": {},
   "source": [
    "# Homework #1\n",
    "\n",
    "- Date: 2024.03.08\n",
    "- Due Date: 2024.03.17 자정"
   ]
  },
  {
   "cell_type": "markdown",
   "metadata": {},
   "source": [
    "[문제1] 0부터 100까지 합을 구하는 코드를 구현하세요.\n",
    "- for 혹은 while을 이용해서 구현해보기 \n",
    "- chatGPT 사용하지 말고 직접 해보기"
   ]
  },
  {
   "cell_type": "code",
   "execution_count": null,
   "metadata": {},
   "outputs": [
    {
     "name": "stdout",
     "output_type": "stream",
     "text": [
      "hello\n"
     ]
    }
   ],
   "source": [
    "a = 0\n",
    "for i in range(101) : \n",
    "    a = a + i\n",
    "\n",
    "print(a)\n",
    "\n"
   ]
  },
  {
   "cell_type": "markdown",
   "metadata": {},
   "source": [
    "[문제2] 문제1의 코드에서, 3의 배수인 경우 합에서 제외 시키도록 수정해보세요.\n",
    "- 반복문 안에 조건문을 적절하게 삽입해서 구현해보기"
   ]
  },
  {
   "cell_type": "code",
   "execution_count": null,
   "metadata": {},
   "outputs": [],
   "source": [
    "a = 0\n",
    "for i in range(101):\n",
    "    if i % 3 != 0:\n",
    "        a = a + i\n",
    "    \n",
    "print(a)"
   ]
  },
  {
   "cell_type": "markdown",
   "metadata": {},
   "source": [
    "[문제3] 문제2의 코드에서, 3의 배수이며 동시에 5의 배수인 경우 다시 합에 추가해주세요.\n",
    "- 문제2의 코드에 적절하게 삽입해서 구현해보기"
   ]
  },
  {
   "cell_type": "code",
   "execution_count": null,
   "metadata": {},
   "outputs": [],
   "source": [
    "a = 0\n",
    "for i in range(101):\n",
    "    if i % 3 != 0:\n",
    "        a = a + i\n",
    "    elif i % 15 == 0:\n",
    "        a = a + i\n",
    "\n",
    "print(a)"
   ]
  }
 ],
 "metadata": {
  "kernelspec": {
   "display_name": "Python 3",
   "language": "python",
   "name": "python3"
  },
  "language_info": {
   "codemirror_mode": {
    "name": "ipython",
    "version": 3
   },
   "file_extension": ".py",
   "mimetype": "text/x-python",
   "name": "python",
   "nbconvert_exporter": "python",
   "pygments_lexer": "ipython3",
   "version": "3.12.2"
  }
 },
 "nbformat": 4,
 "nbformat_minor": 2
}
