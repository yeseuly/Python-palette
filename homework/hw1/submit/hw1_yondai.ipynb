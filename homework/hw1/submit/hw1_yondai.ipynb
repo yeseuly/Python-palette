{
 "cells": [
  {
   "cell_type": "markdown",
   "metadata": {},
   "source": [
    "# Homework #1\n",
    "\n",
    "- Date: 2024.03.08\n",
    "- Due Date: 2024.03.17 자정"
   ]
  },
  {
   "cell_type": "markdown",
   "metadata": {},
   "source": [
    "[문제1] 0부터 100까지 합을 구하는 코드를 구현하세요.\n",
    "- for 혹은 while을 이용해서 구현해보기 \n",
    "- chatGPT 사용하지 말고 직접 해보기"
   ]
  },
  {
   "cell_type": "code",
   "execution_count": null,
   "metadata": {},
   "outputs": [],
   "source": []
  },
  {
   "cell_type": "markdown",
   "metadata": {},
   "source": [
    "[문제2] 문제1의 코드에서, 3의 배수인 경우 합에서 제외 시키도록 수정해보세요.\n",
    "- 반복문 안에 조건문을 적절하게 삽입해서 구현해보기"
   ]
  },
  {
   "cell_type": "code",
   "execution_count": null,
   "metadata": {},
   "outputs": [],
   "source": []
  },
  {
   "cell_type": "markdown",
   "metadata": {},
   "source": [
    "[문제3] 문제2의 코드에서, 3의 배수이며 동시에 5의 배수인 경우 다시 합에 추가해주세요.\n",
    "- 문제2의 코드에 적절하게 삽입해서 구현해보기"
   ]
  },
  {
   "cell_type": "code",
   "execution_count": null,
   "metadata": {},
   "outputs": [],
   "source": []
  }
 ],
 "metadata": {
  "language_info": {
   "name": "python"
  }
 },
 "nbformat": 4,
 "nbformat_minor": 2
}
