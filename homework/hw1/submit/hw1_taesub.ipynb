{
 "cells": [
  {
   "cell_type": "markdown",
   "metadata": {},
   "source": [
    "# Homework #1\n",
    "\n",
    "- Date: 2024.03.08\n",
    "- Due Date: 2024.03.17 자정"
   ]
  },
  {
   "cell_type": "markdown",
   "metadata": {},
   "source": [
    "[문제1] 0부터 100까지 합을 구하는 코드를 구현하세요.\n",
    "- for 혹은 while을 이용해서 구현해보기 \n",
    "- chatGPT 사용하지 말고 직접 해보기"
   ]
  },
  {
   "cell_type": "code",
   "execution_count": 24,
   "metadata": {},
   "outputs": [
    {
     "name": "stdout",
     "output_type": "stream",
     "text": [
      "5050\n"
     ]
    }
   ],
   "source": [
    "i=0\n",
    "sum1 = 0\n",
    "while i <= 100:\n",
    "    sum1 = sum1 + i\n",
    "    i = i + 1\n",
    "print(sum1)"
   ]
  },
  {
   "cell_type": "markdown",
   "metadata": {},
   "source": [
    "[문제2] 문제1의 코드에서, 3의 배수인 경우 합에서 제외 시키도록 수정해보세요.\n",
    "- 반복문 안에 조건문을 적절하게 삽입해서 구현해보기"
   ]
  },
  {
   "cell_type": "code",
   "execution_count": 25,
   "metadata": {},
   "outputs": [
    {
     "name": "stdout",
     "output_type": "stream",
     "text": [
      "3367\n"
     ]
    }
   ],
   "source": [
    "i=0\n",
    "sum2 = 0\n",
    "while i <= 100:\n",
    "    i = i + 1\n",
    "    if i%3 == 0:\n",
    "        sum2 = sum2 + i\n",
    "    else:\n",
    "        continue\n",
    "print(sum1-sum2)"
   ]
  },
  {
   "cell_type": "markdown",
   "metadata": {},
   "source": [
    "[문제3] 문제2의 코드에서, 3의 배수이며 동시에 5의 배수인 경우 다시 합에 추가해주세요.\n",
    "- 문제2의 코드에 적절하게 삽입해서 구현해보기"
   ]
  },
  {
   "cell_type": "code",
   "execution_count": 29,
   "metadata": {},
   "outputs": [
    {
     "name": "stdout",
     "output_type": "stream",
     "text": [
      "3682\n"
     ]
    }
   ],
   "source": [
    "i=0\n",
    "sum3 = 0\n",
    "while i <= 100:\n",
    "    i = i + 1\n",
    "    if (i%3 == 0) and (i%5 == 0):\n",
    "        sum3 = sum3 + i\n",
    "    else:\n",
    "        continue\n",
    "print(sum1 - sum2 + sum3)\n"
   ]
  },
  {
   "cell_type": "code",
   "execution_count": null,
   "metadata": {},
   "outputs": [],
   "source": []
  }
 ],
 "metadata": {
  "kernelspec": {
   "display_name": "palette-basic",
   "language": "python",
   "name": "python3"
  },
  "language_info": {
   "codemirror_mode": {
    "name": "ipython",
    "version": 3
   },
   "file_extension": ".py",
   "mimetype": "text/x-python",
   "name": "python",
   "nbconvert_exporter": "python",
   "pygments_lexer": "ipython3",
   "version": "3.12.2"
  }
 },
 "nbformat": 4,
 "nbformat_minor": 2
}
