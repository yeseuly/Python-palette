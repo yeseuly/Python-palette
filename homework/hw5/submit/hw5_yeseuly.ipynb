{
 "cells": [
  {
   "cell_type": "markdown",
   "metadata": {},
   "source": [
    "# Homework #5\n",
    "\n",
    "- Date: 2024.04.21\n",
    "- Due Date: 2024.04.28"
   ]
  },
  {
   "cell_type": "code",
   "execution_count": 1,
   "metadata": {},
   "outputs": [],
   "source": [
    "import pandas as pd\n",
    "import numpy as np\n",
    "import matplotlib.pyplot as plt"
   ]
  },
  {
   "cell_type": "markdown",
   "metadata": {},
   "source": [
    "## Pandas DataFrame\n",
    "\n",
    "- 판다스(Pandas)는 파이썬에서 데이터 조작과 분석을 위한 라이브러리\n",
    "    - 주로 테이블 형태의 데이터를 다루는 데 사용(판다스의 핵심 데이터 구조는 DataFrame)\n",
    "    - DataFrame은 행과 열이 있는 테이블 데이터 구조를 제공\n",
    "    - 각 열은 서로 다른 유형의 데이터를 포함할 수 있으며, 각 행은 각기 다른 관측치를 나타냄\n",
    "\n",
    "- 판다스의 DataFrame을 생성하고 조작하는 방법은 매우 다양\n",
    "    - 일반적으로 CSV 파일, 엑셀 파일, SQL 데이터베이스 등 다양한 소스에서 데이터를 로드하여 DataFrame 활용"
   ]
  },
  {
   "cell_type": "code",
   "execution_count": 2,
   "metadata": {
    "metadata": {}
   },
   "outputs": [
    {
     "name": "stdout",
     "output_type": "stream",
     "text": [
      "        이름  나이 성별\n",
      "0    Alice  25  여\n",
      "1      Bob  30  남\n",
      "2  Charlie  35  남\n",
      "3    David  40  여\n"
     ]
    }
   ],
   "source": [
    "# 딕셔너리로부터 DataFrame 생성\n",
    "data = {\n",
    "    '이름': ['Alice', 'Bob', 'Charlie', 'David'],\n",
    "    '나이': [25, 30, 35, 40],\n",
    "    '성별': ['여', '남', '남', '여']\n",
    "}\n",
    "\n",
    "df = pd.DataFrame(data)\n",
    "\n",
    "print(df)"
   ]
  },
  {
   "cell_type": "code",
   "execution_count": 3,
   "metadata": {
    "metadata": {}
   },
   "outputs": [
    {
     "data": {
      "text/plain": [
       "0    25\n",
       "1    30\n",
       "2    35\n",
       "3    40\n",
       "Name: 나이, dtype: int64"
      ]
     },
     "execution_count": 3,
     "metadata": {},
     "output_type": "execute_result"
    }
   ],
   "source": [
    "# '이름' 열 선택\n",
    "df['나이']"
   ]
  },
  {
   "cell_type": "code",
   "execution_count": 4,
   "metadata": {
    "metadata": {}
   },
   "outputs": [
    {
     "data": {
      "text/html": [
       "<div>\n",
       "<style scoped>\n",
       "    .dataframe tbody tr th:only-of-type {\n",
       "        vertical-align: middle;\n",
       "    }\n",
       "\n",
       "    .dataframe tbody tr th {\n",
       "        vertical-align: top;\n",
       "    }\n",
       "\n",
       "    .dataframe thead th {\n",
       "        text-align: right;\n",
       "    }\n",
       "</style>\n",
       "<table border=\"1\" class=\"dataframe\">\n",
       "  <thead>\n",
       "    <tr style=\"text-align: right;\">\n",
       "      <th></th>\n",
       "      <th>이름</th>\n",
       "      <th>나이</th>\n",
       "      <th>성별</th>\n",
       "    </tr>\n",
       "  </thead>\n",
       "  <tbody>\n",
       "    <tr>\n",
       "      <th>2</th>\n",
       "      <td>Charlie</td>\n",
       "      <td>35</td>\n",
       "      <td>남</td>\n",
       "    </tr>\n",
       "    <tr>\n",
       "      <th>3</th>\n",
       "      <td>David</td>\n",
       "      <td>40</td>\n",
       "      <td>여</td>\n",
       "    </tr>\n",
       "  </tbody>\n",
       "</table>\n",
       "</div>"
      ],
      "text/plain": [
       "        이름  나이 성별\n",
       "2  Charlie  35  남\n",
       "3    David  40  여"
      ]
     },
     "execution_count": 4,
     "metadata": {},
     "output_type": "execute_result"
    }
   ],
   "source": [
    "# 특정 조건을 만족하는 행 제거\n",
    "df[df['나이']>30]"
   ]
  },
  {
   "cell_type": "code",
   "execution_count": 5,
   "metadata": {
    "metadata": {}
   },
   "outputs": [
    {
     "data": {
      "text/html": [
       "<div>\n",
       "<style scoped>\n",
       "    .dataframe tbody tr th:only-of-type {\n",
       "        vertical-align: middle;\n",
       "    }\n",
       "\n",
       "    .dataframe tbody tr th {\n",
       "        vertical-align: top;\n",
       "    }\n",
       "\n",
       "    .dataframe thead th {\n",
       "        text-align: right;\n",
       "    }\n",
       "</style>\n",
       "<table border=\"1\" class=\"dataframe\">\n",
       "  <thead>\n",
       "    <tr style=\"text-align: right;\">\n",
       "      <th></th>\n",
       "      <th>이름</th>\n",
       "      <th>나이</th>\n",
       "      <th>성별</th>\n",
       "    </tr>\n",
       "  </thead>\n",
       "  <tbody>\n",
       "    <tr>\n",
       "      <th>0</th>\n",
       "      <td>Alice</td>\n",
       "      <td>25</td>\n",
       "      <td>여</td>\n",
       "    </tr>\n",
       "    <tr>\n",
       "      <th>1</th>\n",
       "      <td>Bob</td>\n",
       "      <td>30</td>\n",
       "      <td>남</td>\n",
       "    </tr>\n",
       "    <tr>\n",
       "      <th>2</th>\n",
       "      <td>Charlie</td>\n",
       "      <td>35</td>\n",
       "      <td>남</td>\n",
       "    </tr>\n",
       "    <tr>\n",
       "      <th>3</th>\n",
       "      <td>David</td>\n",
       "      <td>40</td>\n",
       "      <td>여</td>\n",
       "    </tr>\n",
       "  </tbody>\n",
       "</table>\n",
       "</div>"
      ],
      "text/plain": [
       "        이름  나이 성별\n",
       "0    Alice  25  여\n",
       "1      Bob  30  남\n",
       "2  Charlie  35  남\n",
       "3    David  40  여"
      ]
     },
     "execution_count": 5,
     "metadata": {},
     "output_type": "execute_result"
    }
   ],
   "source": [
    "df"
   ]
  },
  {
   "cell_type": "code",
   "execution_count": 6,
   "metadata": {
    "metadata": {}
   },
   "outputs": [
    {
     "data": {
      "text/html": [
       "<div>\n",
       "<style scoped>\n",
       "    .dataframe tbody tr th:only-of-type {\n",
       "        vertical-align: middle;\n",
       "    }\n",
       "\n",
       "    .dataframe tbody tr th {\n",
       "        vertical-align: top;\n",
       "    }\n",
       "\n",
       "    .dataframe thead th {\n",
       "        text-align: right;\n",
       "    }\n",
       "</style>\n",
       "<table border=\"1\" class=\"dataframe\">\n",
       "  <thead>\n",
       "    <tr style=\"text-align: right;\">\n",
       "      <th></th>\n",
       "      <th>이름</th>\n",
       "      <th>나이</th>\n",
       "      <th>성별</th>\n",
       "    </tr>\n",
       "  </thead>\n",
       "  <tbody>\n",
       "    <tr>\n",
       "      <th>0</th>\n",
       "      <td>Alice</td>\n",
       "      <td>25</td>\n",
       "      <td>여</td>\n",
       "    </tr>\n",
       "    <tr>\n",
       "      <th>1</th>\n",
       "      <td>Bob</td>\n",
       "      <td>30</td>\n",
       "      <td>남</td>\n",
       "    </tr>\n",
       "    <tr>\n",
       "      <th>3</th>\n",
       "      <td>David</td>\n",
       "      <td>40</td>\n",
       "      <td>여</td>\n",
       "    </tr>\n",
       "  </tbody>\n",
       "</table>\n",
       "</div>"
      ],
      "text/plain": [
       "      이름  나이 성별\n",
       "0  Alice  25  여\n",
       "1    Bob  30  남\n",
       "3  David  40  여"
      ]
     },
     "execution_count": 6,
     "metadata": {},
     "output_type": "execute_result"
    }
   ],
   "source": [
    "data = {\n",
    "    '이름': ['Alice', 'Bob', 'Charlie', 'David'],\n",
    "    '나이': [25, 30, 35, 40],\n",
    "    '성별': ['여', '남', '남', '여']\n",
    "}\n",
    "\n",
    "df = pd.DataFrame(data)\n",
    "\n",
    "# 제거할 행의 인덱스를 제외한 DataFrame 생성\n",
    "df.drop([2])"
   ]
  },
  {
   "cell_type": "markdown",
   "metadata": {},
   "source": [
    "- pd.concat() 함수를 사용하여 DataFrame을 연결할 때 ignore_index=True를 설정하면 인덱스가 재설정되어 새로운 DataFrame이 생성됩니다. 이를 이용하여 행을 추가할 수 있습니다. 또한, drop() 메서드를 사용하여 특정 인덱스의 행을 제거할 수 있습니다."
   ]
  },
  {
   "cell_type": "code",
   "execution_count": 7,
   "metadata": {
    "metadata": {}
   },
   "outputs": [],
   "source": [
    "num_list = []\n",
    "\n",
    "for i in range(10):\n",
    "    num_list.append(i*3)"
   ]
  },
  {
   "cell_type": "code",
   "execution_count": 8,
   "metadata": {
    "metadata": {}
   },
   "outputs": [
    {
     "data": {
      "text/plain": [
       "[0, 3, 6, 9, 12, 15, 18, 21, 24, 27]"
      ]
     },
     "execution_count": 8,
     "metadata": {},
     "output_type": "execute_result"
    }
   ],
   "source": [
    "num_list"
   ]
  },
  {
   "cell_type": "code",
   "execution_count": 9,
   "metadata": {
    "metadata": {}
   },
   "outputs": [
    {
     "data": {
      "text/plain": [
       "9"
      ]
     },
     "execution_count": 9,
     "metadata": {},
     "output_type": "execute_result"
    }
   ],
   "source": [
    "num_list[3]"
   ]
  },
  {
   "cell_type": "code",
   "execution_count": 10,
   "metadata": {
    "metadata": {}
   },
   "outputs": [
    {
     "data": {
      "text/html": [
       "<div>\n",
       "<style scoped>\n",
       "    .dataframe tbody tr th:only-of-type {\n",
       "        vertical-align: middle;\n",
       "    }\n",
       "\n",
       "    .dataframe tbody tr th {\n",
       "        vertical-align: top;\n",
       "    }\n",
       "\n",
       "    .dataframe thead th {\n",
       "        text-align: right;\n",
       "    }\n",
       "</style>\n",
       "<table border=\"1\" class=\"dataframe\">\n",
       "  <thead>\n",
       "    <tr style=\"text-align: right;\">\n",
       "      <th></th>\n",
       "      <th>이름</th>\n",
       "      <th>나이</th>\n",
       "      <th>성별</th>\n",
       "    </tr>\n",
       "  </thead>\n",
       "  <tbody>\n",
       "    <tr>\n",
       "      <th>0</th>\n",
       "      <td>Alice</td>\n",
       "      <td>25</td>\n",
       "      <td>여</td>\n",
       "    </tr>\n",
       "    <tr>\n",
       "      <th>1</th>\n",
       "      <td>Bob</td>\n",
       "      <td>30</td>\n",
       "      <td>남</td>\n",
       "    </tr>\n",
       "    <tr>\n",
       "      <th>2</th>\n",
       "      <td>Charlie</td>\n",
       "      <td>35</td>\n",
       "      <td>남</td>\n",
       "    </tr>\n",
       "    <tr>\n",
       "      <th>3</th>\n",
       "      <td>David</td>\n",
       "      <td>40</td>\n",
       "      <td>남</td>\n",
       "    </tr>\n",
       "  </tbody>\n",
       "</table>\n",
       "</div>"
      ],
      "text/plain": [
       "        이름  나이 성별\n",
       "0    Alice  25  여\n",
       "1      Bob  30  남\n",
       "2  Charlie  35  남\n",
       "3    David  40  남"
      ]
     },
     "execution_count": 10,
     "metadata": {},
     "output_type": "execute_result"
    }
   ],
   "source": [
    "# 기존 DataFrame 생성\n",
    "data1 = {\n",
    "    '이름': ['Alice', 'Bob', 'Charlie'],\n",
    "    '나이': [25, 30, 35],\n",
    "    '성별': ['여', '남', '남']\n",
    "}\n",
    "df1 = pd.DataFrame(data1)\n",
    "\n",
    "# 추가할 행 데이터\n",
    "data2 = {\n",
    "    '이름': ['David'],\n",
    "    '나이': [40],\n",
    "    '성별': ['남']\n",
    "}\n",
    "df2 = pd.DataFrame(data2)\n",
    "\n",
    "# 두 DataFrame을 연결하여 행 추가\n",
    "pd.concat([df1, df2], ignore_index=True)"
   ]
  },
  {
   "cell_type": "markdown",
   "metadata": {},
   "source": [
    "- numpy를 이용한 random 행렬 생성"
   ]
  },
  {
   "cell_type": "code",
   "execution_count": 11,
   "metadata": {
    "metadata": {}
   },
   "outputs": [],
   "source": [
    "# 랜덤한 데이터로 DataFrame 생성\n",
    "df = pd.DataFrame(np.random.rand(5, 3), columns=['A', 'B', 'C'])"
   ]
  },
  {
   "cell_type": "code",
   "execution_count": 12,
   "metadata": {
    "metadata": {}
   },
   "outputs": [
    {
     "data": {
      "text/html": [
       "<div>\n",
       "<style scoped>\n",
       "    .dataframe tbody tr th:only-of-type {\n",
       "        vertical-align: middle;\n",
       "    }\n",
       "\n",
       "    .dataframe tbody tr th {\n",
       "        vertical-align: top;\n",
       "    }\n",
       "\n",
       "    .dataframe thead th {\n",
       "        text-align: right;\n",
       "    }\n",
       "</style>\n",
       "<table border=\"1\" class=\"dataframe\">\n",
       "  <thead>\n",
       "    <tr style=\"text-align: right;\">\n",
       "      <th></th>\n",
       "      <th>A</th>\n",
       "      <th>B</th>\n",
       "    </tr>\n",
       "  </thead>\n",
       "  <tbody>\n",
       "    <tr>\n",
       "      <th>0</th>\n",
       "      <td>0.565336</td>\n",
       "      <td>0.268709</td>\n",
       "    </tr>\n",
       "    <tr>\n",
       "      <th>1</th>\n",
       "      <td>0.530175</td>\n",
       "      <td>0.919357</td>\n",
       "    </tr>\n",
       "    <tr>\n",
       "      <th>2</th>\n",
       "      <td>0.036374</td>\n",
       "      <td>0.102105</td>\n",
       "    </tr>\n",
       "    <tr>\n",
       "      <th>3</th>\n",
       "      <td>0.487357</td>\n",
       "      <td>0.043939</td>\n",
       "    </tr>\n",
       "    <tr>\n",
       "      <th>4</th>\n",
       "      <td>0.868994</td>\n",
       "      <td>0.025289</td>\n",
       "    </tr>\n",
       "  </tbody>\n",
       "</table>\n",
       "</div>"
      ],
      "text/plain": [
       "          A         B\n",
       "0  0.565336  0.268709\n",
       "1  0.530175  0.919357\n",
       "2  0.036374  0.102105\n",
       "3  0.487357  0.043939\n",
       "4  0.868994  0.025289"
      ]
     },
     "execution_count": 12,
     "metadata": {},
     "output_type": "execute_result"
    }
   ],
   "source": [
    "df[['A','B']]"
   ]
  },
  {
   "cell_type": "code",
   "execution_count": 13,
   "metadata": {
    "metadata": {}
   },
   "outputs": [
    {
     "data": {
      "text/plain": [
       "A    0.565336\n",
       "B    0.268709\n",
       "C    0.120204\n",
       "Name: 0, dtype: float64"
      ]
     },
     "execution_count": 13,
     "metadata": {},
     "output_type": "execute_result"
    }
   ],
   "source": [
    "df.iloc[0]"
   ]
  },
  {
   "cell_type": "code",
   "execution_count": 14,
   "metadata": {
    "metadata": {}
   },
   "outputs": [],
   "source": [
    "# 평균과 표준편차 지정\n",
    "mu, sigma = 0, 0.1  # 평균(mu)이 0이고 표준편차(sigma)가 0.1인 가우시안 분포\n",
    "\n",
    "# 난수 생성\n",
    "data10 = np.random.normal(mu, sigma, 10)\n",
    "data100 = np.random.normal(mu, sigma, 100)\n",
    "data1000 = np.random.normal(mu, sigma, 1000)"
   ]
  },
  {
   "cell_type": "markdown",
   "metadata": {},
   "source": [
    "Question 1. np.random.normal 난수 생성을 이용하여, 임의의 100명의 학생의 국어, 영어, 수학 과목 성적표를 만드시오.\n",
    "- data[0] = 학번\n",
    "- data[1] = 국어성적 (0~100점 사이, 평균=73, 표준편차=12.3)\n",
    "- data[2] = 영어성적 (0~100점 사이, 평균=67, 표준편차=25.8)\n",
    "- data[3] = 수학성적 (0~100점 사이, 평균=56, 표준편차=32.7)\n",
    "\n",
    "* 단, 0점 이하의 값이 나오는 경우 0점으로, 100점 이상의 값이 나오는 경우 100점으로 처리"
   ]
  },
  {
   "cell_type": "code",
   "execution_count": 15,
   "metadata": {
    "metadata": {}
   },
   "outputs": [],
   "source": [
    "def getScore(mu, sigma, size):\n",
    "    data = np.random.normal(mu, sigma, size)\n",
    "    data[data>100] = 100\n",
    "    data[data<0] = 0\n",
    "\n",
    "    return data"
   ]
  },
  {
   "cell_type": "code",
   "execution_count": 16,
   "metadata": {
    "metadata": {}
   },
   "outputs": [],
   "source": [
    "korean = getScore(73, 12.3, 100)\n",
    "english = getScore(67, 25.8, 100)\n",
    "math = getScore(56, 32.7, 100)"
   ]
  },
  {
   "cell_type": "code",
   "execution_count": 17,
   "metadata": {
    "metadata": {}
   },
   "outputs": [],
   "source": [
    "korean = np.random.normal(73, 12.3, 100)\n",
    "korean[korean>100] = 100\n",
    "korean[korean<0] = 0\n",
    "\n",
    "english = np.random.normal(67, 25.8, 100)\n",
    "english[english>100] = 100\n",
    "english[english<0] = 0\n",
    "\n",
    "math = np.random.normal(56, 32.7, 100)\n",
    "math[math>100] = 100\n",
    "math[math<0] = 0"
   ]
  },
  {
   "cell_type": "code",
   "execution_count": 18,
   "metadata": {
    "metadata": {}
   },
   "outputs": [],
   "source": [
    "data = {\n",
    "    'id': np.arange(1, 101, 1),\n",
    "    'korean': korean,\n",
    "    'english': english,\n",
    "    'math': math\n",
    "}\n",
    "\n",
    "df = pd.DataFrame(data)"
   ]
  },
  {
   "cell_type": "code",
   "execution_count": 19,
   "metadata": {
    "metadata": {}
   },
   "outputs": [
    {
     "data": {
      "text/html": [
       "<div>\n",
       "<style scoped>\n",
       "    .dataframe tbody tr th:only-of-type {\n",
       "        vertical-align: middle;\n",
       "    }\n",
       "\n",
       "    .dataframe tbody tr th {\n",
       "        vertical-align: top;\n",
       "    }\n",
       "\n",
       "    .dataframe thead th {\n",
       "        text-align: right;\n",
       "    }\n",
       "</style>\n",
       "<table border=\"1\" class=\"dataframe\">\n",
       "  <thead>\n",
       "    <tr style=\"text-align: right;\">\n",
       "      <th></th>\n",
       "      <th>id</th>\n",
       "      <th>korean</th>\n",
       "      <th>english</th>\n",
       "      <th>math</th>\n",
       "    </tr>\n",
       "  </thead>\n",
       "  <tbody>\n",
       "    <tr>\n",
       "      <th>0</th>\n",
       "      <td>1</td>\n",
       "      <td>83.782175</td>\n",
       "      <td>100.000000</td>\n",
       "      <td>15.424719</td>\n",
       "    </tr>\n",
       "    <tr>\n",
       "      <th>1</th>\n",
       "      <td>2</td>\n",
       "      <td>62.053121</td>\n",
       "      <td>93.532650</td>\n",
       "      <td>85.693648</td>\n",
       "    </tr>\n",
       "    <tr>\n",
       "      <th>2</th>\n",
       "      <td>3</td>\n",
       "      <td>60.601019</td>\n",
       "      <td>95.253570</td>\n",
       "      <td>100.000000</td>\n",
       "    </tr>\n",
       "    <tr>\n",
       "      <th>3</th>\n",
       "      <td>4</td>\n",
       "      <td>62.269725</td>\n",
       "      <td>36.379423</td>\n",
       "      <td>25.026747</td>\n",
       "    </tr>\n",
       "    <tr>\n",
       "      <th>4</th>\n",
       "      <td>5</td>\n",
       "      <td>76.721711</td>\n",
       "      <td>66.867605</td>\n",
       "      <td>18.241800</td>\n",
       "    </tr>\n",
       "    <tr>\n",
       "      <th>...</th>\n",
       "      <td>...</td>\n",
       "      <td>...</td>\n",
       "      <td>...</td>\n",
       "      <td>...</td>\n",
       "    </tr>\n",
       "    <tr>\n",
       "      <th>95</th>\n",
       "      <td>96</td>\n",
       "      <td>61.592363</td>\n",
       "      <td>62.588292</td>\n",
       "      <td>49.101946</td>\n",
       "    </tr>\n",
       "    <tr>\n",
       "      <th>96</th>\n",
       "      <td>97</td>\n",
       "      <td>81.316980</td>\n",
       "      <td>59.027189</td>\n",
       "      <td>77.422543</td>\n",
       "    </tr>\n",
       "    <tr>\n",
       "      <th>97</th>\n",
       "      <td>98</td>\n",
       "      <td>65.247679</td>\n",
       "      <td>75.887148</td>\n",
       "      <td>77.954530</td>\n",
       "    </tr>\n",
       "    <tr>\n",
       "      <th>98</th>\n",
       "      <td>99</td>\n",
       "      <td>73.826178</td>\n",
       "      <td>64.988407</td>\n",
       "      <td>54.690782</td>\n",
       "    </tr>\n",
       "    <tr>\n",
       "      <th>99</th>\n",
       "      <td>100</td>\n",
       "      <td>76.318367</td>\n",
       "      <td>59.431172</td>\n",
       "      <td>85.144468</td>\n",
       "    </tr>\n",
       "  </tbody>\n",
       "</table>\n",
       "<p>100 rows × 4 columns</p>\n",
       "</div>"
      ],
      "text/plain": [
       "     id     korean     english        math\n",
       "0     1  83.782175  100.000000   15.424719\n",
       "1     2  62.053121   93.532650   85.693648\n",
       "2     3  60.601019   95.253570  100.000000\n",
       "3     4  62.269725   36.379423   25.026747\n",
       "4     5  76.721711   66.867605   18.241800\n",
       "..  ...        ...         ...         ...\n",
       "95   96  61.592363   62.588292   49.101946\n",
       "96   97  81.316980   59.027189   77.422543\n",
       "97   98  65.247679   75.887148   77.954530\n",
       "98   99  73.826178   64.988407   54.690782\n",
       "99  100  76.318367   59.431172   85.144468\n",
       "\n",
       "[100 rows x 4 columns]"
      ]
     },
     "execution_count": 19,
     "metadata": {},
     "output_type": "execute_result"
    }
   ],
   "source": [
    "df"
   ]
  },
  {
   "cell_type": "markdown",
   "metadata": {},
   "source": [
    "Question 2. 5번째 열(mean)을 추가하여, 학생별 평균값을 갖는 데이터를 만들어주세요"
   ]
  },
  {
   "cell_type": "code",
   "execution_count": 20,
   "metadata": {
    "metadata": {}
   },
   "outputs": [],
   "source": [
    "average = []\n",
    "\n",
    "for i in range(len(df)):\n",
    "    average.append((df['korean'].iloc[i]+df['english'].iloc[i]+df['math'].iloc[i])/3)"
   ]
  },
  {
   "cell_type": "code",
   "execution_count": 21,
   "metadata": {
    "metadata": {}
   },
   "outputs": [],
   "source": [
    "df['mean'] = average"
   ]
  },
  {
   "cell_type": "code",
   "execution_count": 22,
   "metadata": {
    "metadata": {}
   },
   "outputs": [
    {
     "data": {
      "text/html": [
       "<div>\n",
       "<style scoped>\n",
       "    .dataframe tbody tr th:only-of-type {\n",
       "        vertical-align: middle;\n",
       "    }\n",
       "\n",
       "    .dataframe tbody tr th {\n",
       "        vertical-align: top;\n",
       "    }\n",
       "\n",
       "    .dataframe thead th {\n",
       "        text-align: right;\n",
       "    }\n",
       "</style>\n",
       "<table border=\"1\" class=\"dataframe\">\n",
       "  <thead>\n",
       "    <tr style=\"text-align: right;\">\n",
       "      <th></th>\n",
       "      <th>id</th>\n",
       "      <th>korean</th>\n",
       "      <th>english</th>\n",
       "      <th>math</th>\n",
       "      <th>mean</th>\n",
       "    </tr>\n",
       "  </thead>\n",
       "  <tbody>\n",
       "    <tr>\n",
       "      <th>0</th>\n",
       "      <td>1</td>\n",
       "      <td>83.782175</td>\n",
       "      <td>100.000000</td>\n",
       "      <td>15.424719</td>\n",
       "      <td>66.402298</td>\n",
       "    </tr>\n",
       "    <tr>\n",
       "      <th>1</th>\n",
       "      <td>2</td>\n",
       "      <td>62.053121</td>\n",
       "      <td>93.532650</td>\n",
       "      <td>85.693648</td>\n",
       "      <td>80.426473</td>\n",
       "    </tr>\n",
       "    <tr>\n",
       "      <th>2</th>\n",
       "      <td>3</td>\n",
       "      <td>60.601019</td>\n",
       "      <td>95.253570</td>\n",
       "      <td>100.000000</td>\n",
       "      <td>85.284863</td>\n",
       "    </tr>\n",
       "    <tr>\n",
       "      <th>3</th>\n",
       "      <td>4</td>\n",
       "      <td>62.269725</td>\n",
       "      <td>36.379423</td>\n",
       "      <td>25.026747</td>\n",
       "      <td>41.225298</td>\n",
       "    </tr>\n",
       "    <tr>\n",
       "      <th>4</th>\n",
       "      <td>5</td>\n",
       "      <td>76.721711</td>\n",
       "      <td>66.867605</td>\n",
       "      <td>18.241800</td>\n",
       "      <td>53.943705</td>\n",
       "    </tr>\n",
       "    <tr>\n",
       "      <th>...</th>\n",
       "      <td>...</td>\n",
       "      <td>...</td>\n",
       "      <td>...</td>\n",
       "      <td>...</td>\n",
       "      <td>...</td>\n",
       "    </tr>\n",
       "    <tr>\n",
       "      <th>95</th>\n",
       "      <td>96</td>\n",
       "      <td>61.592363</td>\n",
       "      <td>62.588292</td>\n",
       "      <td>49.101946</td>\n",
       "      <td>57.760867</td>\n",
       "    </tr>\n",
       "    <tr>\n",
       "      <th>96</th>\n",
       "      <td>97</td>\n",
       "      <td>81.316980</td>\n",
       "      <td>59.027189</td>\n",
       "      <td>77.422543</td>\n",
       "      <td>72.588904</td>\n",
       "    </tr>\n",
       "    <tr>\n",
       "      <th>97</th>\n",
       "      <td>98</td>\n",
       "      <td>65.247679</td>\n",
       "      <td>75.887148</td>\n",
       "      <td>77.954530</td>\n",
       "      <td>73.029786</td>\n",
       "    </tr>\n",
       "    <tr>\n",
       "      <th>98</th>\n",
       "      <td>99</td>\n",
       "      <td>73.826178</td>\n",
       "      <td>64.988407</td>\n",
       "      <td>54.690782</td>\n",
       "      <td>64.501789</td>\n",
       "    </tr>\n",
       "    <tr>\n",
       "      <th>99</th>\n",
       "      <td>100</td>\n",
       "      <td>76.318367</td>\n",
       "      <td>59.431172</td>\n",
       "      <td>85.144468</td>\n",
       "      <td>73.631336</td>\n",
       "    </tr>\n",
       "  </tbody>\n",
       "</table>\n",
       "<p>100 rows × 5 columns</p>\n",
       "</div>"
      ],
      "text/plain": [
       "     id     korean     english        math       mean\n",
       "0     1  83.782175  100.000000   15.424719  66.402298\n",
       "1     2  62.053121   93.532650   85.693648  80.426473\n",
       "2     3  60.601019   95.253570  100.000000  85.284863\n",
       "3     4  62.269725   36.379423   25.026747  41.225298\n",
       "4     5  76.721711   66.867605   18.241800  53.943705\n",
       "..  ...        ...         ...         ...        ...\n",
       "95   96  61.592363   62.588292   49.101946  57.760867\n",
       "96   97  81.316980   59.027189   77.422543  72.588904\n",
       "97   98  65.247679   75.887148   77.954530  73.029786\n",
       "98   99  73.826178   64.988407   54.690782  64.501789\n",
       "99  100  76.318367   59.431172   85.144468  73.631336\n",
       "\n",
       "[100 rows x 5 columns]"
      ]
     },
     "execution_count": 22,
     "metadata": {},
     "output_type": "execute_result"
    }
   ],
   "source": [
    "df"
   ]
  },
  {
   "cell_type": "code",
   "execution_count": 23,
   "metadata": {
    "metadata": {}
   },
   "outputs": [],
   "source": [
    "score = df.drop(columns=['id'])\n",
    "df['mean'] = score.mean(axis=1)"
   ]
  },
  {
   "cell_type": "code",
   "execution_count": 24,
   "metadata": {
    "metadata": {}
   },
   "outputs": [
    {
     "data": {
      "text/html": [
       "<div>\n",
       "<style scoped>\n",
       "    .dataframe tbody tr th:only-of-type {\n",
       "        vertical-align: middle;\n",
       "    }\n",
       "\n",
       "    .dataframe tbody tr th {\n",
       "        vertical-align: top;\n",
       "    }\n",
       "\n",
       "    .dataframe thead th {\n",
       "        text-align: right;\n",
       "    }\n",
       "</style>\n",
       "<table border=\"1\" class=\"dataframe\">\n",
       "  <thead>\n",
       "    <tr style=\"text-align: right;\">\n",
       "      <th></th>\n",
       "      <th>id</th>\n",
       "      <th>korean</th>\n",
       "      <th>english</th>\n",
       "      <th>math</th>\n",
       "      <th>mean</th>\n",
       "    </tr>\n",
       "  </thead>\n",
       "  <tbody>\n",
       "    <tr>\n",
       "      <th>0</th>\n",
       "      <td>1</td>\n",
       "      <td>83.782175</td>\n",
       "      <td>100.000000</td>\n",
       "      <td>15.424719</td>\n",
       "      <td>66.402298</td>\n",
       "    </tr>\n",
       "    <tr>\n",
       "      <th>1</th>\n",
       "      <td>2</td>\n",
       "      <td>62.053121</td>\n",
       "      <td>93.532650</td>\n",
       "      <td>85.693648</td>\n",
       "      <td>80.426473</td>\n",
       "    </tr>\n",
       "    <tr>\n",
       "      <th>2</th>\n",
       "      <td>3</td>\n",
       "      <td>60.601019</td>\n",
       "      <td>95.253570</td>\n",
       "      <td>100.000000</td>\n",
       "      <td>85.284863</td>\n",
       "    </tr>\n",
       "    <tr>\n",
       "      <th>3</th>\n",
       "      <td>4</td>\n",
       "      <td>62.269725</td>\n",
       "      <td>36.379423</td>\n",
       "      <td>25.026747</td>\n",
       "      <td>41.225298</td>\n",
       "    </tr>\n",
       "    <tr>\n",
       "      <th>4</th>\n",
       "      <td>5</td>\n",
       "      <td>76.721711</td>\n",
       "      <td>66.867605</td>\n",
       "      <td>18.241800</td>\n",
       "      <td>53.943705</td>\n",
       "    </tr>\n",
       "    <tr>\n",
       "      <th>...</th>\n",
       "      <td>...</td>\n",
       "      <td>...</td>\n",
       "      <td>...</td>\n",
       "      <td>...</td>\n",
       "      <td>...</td>\n",
       "    </tr>\n",
       "    <tr>\n",
       "      <th>95</th>\n",
       "      <td>96</td>\n",
       "      <td>61.592363</td>\n",
       "      <td>62.588292</td>\n",
       "      <td>49.101946</td>\n",
       "      <td>57.760867</td>\n",
       "    </tr>\n",
       "    <tr>\n",
       "      <th>96</th>\n",
       "      <td>97</td>\n",
       "      <td>81.316980</td>\n",
       "      <td>59.027189</td>\n",
       "      <td>77.422543</td>\n",
       "      <td>72.588904</td>\n",
       "    </tr>\n",
       "    <tr>\n",
       "      <th>97</th>\n",
       "      <td>98</td>\n",
       "      <td>65.247679</td>\n",
       "      <td>75.887148</td>\n",
       "      <td>77.954530</td>\n",
       "      <td>73.029786</td>\n",
       "    </tr>\n",
       "    <tr>\n",
       "      <th>98</th>\n",
       "      <td>99</td>\n",
       "      <td>73.826178</td>\n",
       "      <td>64.988407</td>\n",
       "      <td>54.690782</td>\n",
       "      <td>64.501789</td>\n",
       "    </tr>\n",
       "    <tr>\n",
       "      <th>99</th>\n",
       "      <td>100</td>\n",
       "      <td>76.318367</td>\n",
       "      <td>59.431172</td>\n",
       "      <td>85.144468</td>\n",
       "      <td>73.631336</td>\n",
       "    </tr>\n",
       "  </tbody>\n",
       "</table>\n",
       "<p>100 rows × 5 columns</p>\n",
       "</div>"
      ],
      "text/plain": [
       "     id     korean     english        math       mean\n",
       "0     1  83.782175  100.000000   15.424719  66.402298\n",
       "1     2  62.053121   93.532650   85.693648  80.426473\n",
       "2     3  60.601019   95.253570  100.000000  85.284863\n",
       "3     4  62.269725   36.379423   25.026747  41.225298\n",
       "4     5  76.721711   66.867605   18.241800  53.943705\n",
       "..  ...        ...         ...         ...        ...\n",
       "95   96  61.592363   62.588292   49.101946  57.760867\n",
       "96   97  81.316980   59.027189   77.422543  72.588904\n",
       "97   98  65.247679   75.887148   77.954530  73.029786\n",
       "98   99  73.826178   64.988407   54.690782  64.501789\n",
       "99  100  76.318367   59.431172   85.144468  73.631336\n",
       "\n",
       "[100 rows x 5 columns]"
      ]
     },
     "execution_count": 24,
     "metadata": {},
     "output_type": "execute_result"
    }
   ],
   "source": [
    "df"
   ]
  },
  {
   "cell_type": "markdown",
   "metadata": {},
   "source": [
    "Question 3. 6번째 열(rank)을 추가하여, 등수를 구해주세요."
   ]
  },
  {
   "cell_type": "code",
   "execution_count": 25,
   "metadata": {
    "metadata": {}
   },
   "outputs": [
    {
     "data": {
      "text/html": [
       "<div>\n",
       "<style scoped>\n",
       "    .dataframe tbody tr th:only-of-type {\n",
       "        vertical-align: middle;\n",
       "    }\n",
       "\n",
       "    .dataframe tbody tr th {\n",
       "        vertical-align: top;\n",
       "    }\n",
       "\n",
       "    .dataframe thead th {\n",
       "        text-align: right;\n",
       "    }\n",
       "</style>\n",
       "<table border=\"1\" class=\"dataframe\">\n",
       "  <thead>\n",
       "    <tr style=\"text-align: right;\">\n",
       "      <th></th>\n",
       "      <th>id</th>\n",
       "      <th>korean</th>\n",
       "      <th>english</th>\n",
       "      <th>math</th>\n",
       "      <th>mean</th>\n",
       "    </tr>\n",
       "  </thead>\n",
       "  <tbody>\n",
       "    <tr>\n",
       "      <th>0</th>\n",
       "      <td>1</td>\n",
       "      <td>83.782175</td>\n",
       "      <td>100.000000</td>\n",
       "      <td>15.424719</td>\n",
       "      <td>66.402298</td>\n",
       "    </tr>\n",
       "    <tr>\n",
       "      <th>1</th>\n",
       "      <td>2</td>\n",
       "      <td>62.053121</td>\n",
       "      <td>93.532650</td>\n",
       "      <td>85.693648</td>\n",
       "      <td>80.426473</td>\n",
       "    </tr>\n",
       "    <tr>\n",
       "      <th>2</th>\n",
       "      <td>3</td>\n",
       "      <td>60.601019</td>\n",
       "      <td>95.253570</td>\n",
       "      <td>100.000000</td>\n",
       "      <td>85.284863</td>\n",
       "    </tr>\n",
       "    <tr>\n",
       "      <th>3</th>\n",
       "      <td>4</td>\n",
       "      <td>62.269725</td>\n",
       "      <td>36.379423</td>\n",
       "      <td>25.026747</td>\n",
       "      <td>41.225298</td>\n",
       "    </tr>\n",
       "    <tr>\n",
       "      <th>4</th>\n",
       "      <td>5</td>\n",
       "      <td>76.721711</td>\n",
       "      <td>66.867605</td>\n",
       "      <td>18.241800</td>\n",
       "      <td>53.943705</td>\n",
       "    </tr>\n",
       "    <tr>\n",
       "      <th>...</th>\n",
       "      <td>...</td>\n",
       "      <td>...</td>\n",
       "      <td>...</td>\n",
       "      <td>...</td>\n",
       "      <td>...</td>\n",
       "    </tr>\n",
       "    <tr>\n",
       "      <th>95</th>\n",
       "      <td>96</td>\n",
       "      <td>61.592363</td>\n",
       "      <td>62.588292</td>\n",
       "      <td>49.101946</td>\n",
       "      <td>57.760867</td>\n",
       "    </tr>\n",
       "    <tr>\n",
       "      <th>96</th>\n",
       "      <td>97</td>\n",
       "      <td>81.316980</td>\n",
       "      <td>59.027189</td>\n",
       "      <td>77.422543</td>\n",
       "      <td>72.588904</td>\n",
       "    </tr>\n",
       "    <tr>\n",
       "      <th>97</th>\n",
       "      <td>98</td>\n",
       "      <td>65.247679</td>\n",
       "      <td>75.887148</td>\n",
       "      <td>77.954530</td>\n",
       "      <td>73.029786</td>\n",
       "    </tr>\n",
       "    <tr>\n",
       "      <th>98</th>\n",
       "      <td>99</td>\n",
       "      <td>73.826178</td>\n",
       "      <td>64.988407</td>\n",
       "      <td>54.690782</td>\n",
       "      <td>64.501789</td>\n",
       "    </tr>\n",
       "    <tr>\n",
       "      <th>99</th>\n",
       "      <td>100</td>\n",
       "      <td>76.318367</td>\n",
       "      <td>59.431172</td>\n",
       "      <td>85.144468</td>\n",
       "      <td>73.631336</td>\n",
       "    </tr>\n",
       "  </tbody>\n",
       "</table>\n",
       "<p>100 rows × 5 columns</p>\n",
       "</div>"
      ],
      "text/plain": [
       "     id     korean     english        math       mean\n",
       "0     1  83.782175  100.000000   15.424719  66.402298\n",
       "1     2  62.053121   93.532650   85.693648  80.426473\n",
       "2     3  60.601019   95.253570  100.000000  85.284863\n",
       "3     4  62.269725   36.379423   25.026747  41.225298\n",
       "4     5  76.721711   66.867605   18.241800  53.943705\n",
       "..  ...        ...         ...         ...        ...\n",
       "95   96  61.592363   62.588292   49.101946  57.760867\n",
       "96   97  81.316980   59.027189   77.422543  72.588904\n",
       "97   98  65.247679   75.887148   77.954530  73.029786\n",
       "98   99  73.826178   64.988407   54.690782  64.501789\n",
       "99  100  76.318367   59.431172   85.144468  73.631336\n",
       "\n",
       "[100 rows x 5 columns]"
      ]
     },
     "execution_count": 25,
     "metadata": {},
     "output_type": "execute_result"
    }
   ],
   "source": [
    "df"
   ]
  },
  {
   "cell_type": "code",
   "execution_count": 26,
   "metadata": {
    "metadata": {}
   },
   "outputs": [],
   "source": [
    "df['rank'] = df.rank(axis=0, ascending=False)['mean']"
   ]
  },
  {
   "cell_type": "code",
   "execution_count": 27,
   "metadata": {
    "metadata": {}
   },
   "outputs": [
    {
     "data": {
      "text/html": [
       "<div>\n",
       "<style scoped>\n",
       "    .dataframe tbody tr th:only-of-type {\n",
       "        vertical-align: middle;\n",
       "    }\n",
       "\n",
       "    .dataframe tbody tr th {\n",
       "        vertical-align: top;\n",
       "    }\n",
       "\n",
       "    .dataframe thead th {\n",
       "        text-align: right;\n",
       "    }\n",
       "</style>\n",
       "<table border=\"1\" class=\"dataframe\">\n",
       "  <thead>\n",
       "    <tr style=\"text-align: right;\">\n",
       "      <th></th>\n",
       "      <th>id</th>\n",
       "      <th>korean</th>\n",
       "      <th>english</th>\n",
       "      <th>math</th>\n",
       "      <th>mean</th>\n",
       "      <th>rank</th>\n",
       "    </tr>\n",
       "  </thead>\n",
       "  <tbody>\n",
       "    <tr>\n",
       "      <th>0</th>\n",
       "      <td>1</td>\n",
       "      <td>83.782175</td>\n",
       "      <td>100.000000</td>\n",
       "      <td>15.424719</td>\n",
       "      <td>66.402298</td>\n",
       "      <td>46.0</td>\n",
       "    </tr>\n",
       "    <tr>\n",
       "      <th>1</th>\n",
       "      <td>2</td>\n",
       "      <td>62.053121</td>\n",
       "      <td>93.532650</td>\n",
       "      <td>85.693648</td>\n",
       "      <td>80.426473</td>\n",
       "      <td>13.0</td>\n",
       "    </tr>\n",
       "    <tr>\n",
       "      <th>2</th>\n",
       "      <td>3</td>\n",
       "      <td>60.601019</td>\n",
       "      <td>95.253570</td>\n",
       "      <td>100.000000</td>\n",
       "      <td>85.284863</td>\n",
       "      <td>5.0</td>\n",
       "    </tr>\n",
       "    <tr>\n",
       "      <th>3</th>\n",
       "      <td>4</td>\n",
       "      <td>62.269725</td>\n",
       "      <td>36.379423</td>\n",
       "      <td>25.026747</td>\n",
       "      <td>41.225298</td>\n",
       "      <td>98.0</td>\n",
       "    </tr>\n",
       "    <tr>\n",
       "      <th>4</th>\n",
       "      <td>5</td>\n",
       "      <td>76.721711</td>\n",
       "      <td>66.867605</td>\n",
       "      <td>18.241800</td>\n",
       "      <td>53.943705</td>\n",
       "      <td>84.0</td>\n",
       "    </tr>\n",
       "    <tr>\n",
       "      <th>...</th>\n",
       "      <td>...</td>\n",
       "      <td>...</td>\n",
       "      <td>...</td>\n",
       "      <td>...</td>\n",
       "      <td>...</td>\n",
       "      <td>...</td>\n",
       "    </tr>\n",
       "    <tr>\n",
       "      <th>95</th>\n",
       "      <td>96</td>\n",
       "      <td>61.592363</td>\n",
       "      <td>62.588292</td>\n",
       "      <td>49.101946</td>\n",
       "      <td>57.760867</td>\n",
       "      <td>75.0</td>\n",
       "    </tr>\n",
       "    <tr>\n",
       "      <th>96</th>\n",
       "      <td>97</td>\n",
       "      <td>81.316980</td>\n",
       "      <td>59.027189</td>\n",
       "      <td>77.422543</td>\n",
       "      <td>72.588904</td>\n",
       "      <td>28.0</td>\n",
       "    </tr>\n",
       "    <tr>\n",
       "      <th>97</th>\n",
       "      <td>98</td>\n",
       "      <td>65.247679</td>\n",
       "      <td>75.887148</td>\n",
       "      <td>77.954530</td>\n",
       "      <td>73.029786</td>\n",
       "      <td>26.0</td>\n",
       "    </tr>\n",
       "    <tr>\n",
       "      <th>98</th>\n",
       "      <td>99</td>\n",
       "      <td>73.826178</td>\n",
       "      <td>64.988407</td>\n",
       "      <td>54.690782</td>\n",
       "      <td>64.501789</td>\n",
       "      <td>54.0</td>\n",
       "    </tr>\n",
       "    <tr>\n",
       "      <th>99</th>\n",
       "      <td>100</td>\n",
       "      <td>76.318367</td>\n",
       "      <td>59.431172</td>\n",
       "      <td>85.144468</td>\n",
       "      <td>73.631336</td>\n",
       "      <td>23.0</td>\n",
       "    </tr>\n",
       "  </tbody>\n",
       "</table>\n",
       "<p>100 rows × 6 columns</p>\n",
       "</div>"
      ],
      "text/plain": [
       "     id     korean     english        math       mean  rank\n",
       "0     1  83.782175  100.000000   15.424719  66.402298  46.0\n",
       "1     2  62.053121   93.532650   85.693648  80.426473  13.0\n",
       "2     3  60.601019   95.253570  100.000000  85.284863   5.0\n",
       "3     4  62.269725   36.379423   25.026747  41.225298  98.0\n",
       "4     5  76.721711   66.867605   18.241800  53.943705  84.0\n",
       "..  ...        ...         ...         ...        ...   ...\n",
       "95   96  61.592363   62.588292   49.101946  57.760867  75.0\n",
       "96   97  81.316980   59.027189   77.422543  72.588904  28.0\n",
       "97   98  65.247679   75.887148   77.954530  73.029786  26.0\n",
       "98   99  73.826178   64.988407   54.690782  64.501789  54.0\n",
       "99  100  76.318367   59.431172   85.144468  73.631336  23.0\n",
       "\n",
       "[100 rows x 6 columns]"
      ]
     },
     "execution_count": 27,
     "metadata": {},
     "output_type": "execute_result"
    }
   ],
   "source": [
    "df"
   ]
  },
  {
   "cell_type": "code",
   "execution_count": 28,
   "metadata": {
    "metadata": {}
   },
   "outputs": [
    {
     "data": {
      "text/html": [
       "<div>\n",
       "<style scoped>\n",
       "    .dataframe tbody tr th:only-of-type {\n",
       "        vertical-align: middle;\n",
       "    }\n",
       "\n",
       "    .dataframe tbody tr th {\n",
       "        vertical-align: top;\n",
       "    }\n",
       "\n",
       "    .dataframe thead th {\n",
       "        text-align: right;\n",
       "    }\n",
       "</style>\n",
       "<table border=\"1\" class=\"dataframe\">\n",
       "  <thead>\n",
       "    <tr style=\"text-align: right;\">\n",
       "      <th></th>\n",
       "      <th>id</th>\n",
       "      <th>korean</th>\n",
       "      <th>english</th>\n",
       "      <th>math</th>\n",
       "      <th>mean</th>\n",
       "      <th>rank</th>\n",
       "    </tr>\n",
       "  </thead>\n",
       "  <tbody>\n",
       "    <tr>\n",
       "      <th>79</th>\n",
       "      <td>80</td>\n",
       "      <td>100.000000</td>\n",
       "      <td>76.405875</td>\n",
       "      <td>100.000000</td>\n",
       "      <td>92.135292</td>\n",
       "      <td>1.0</td>\n",
       "    </tr>\n",
       "    <tr>\n",
       "      <th>23</th>\n",
       "      <td>24</td>\n",
       "      <td>80.867864</td>\n",
       "      <td>87.536228</td>\n",
       "      <td>100.000000</td>\n",
       "      <td>89.468031</td>\n",
       "      <td>2.0</td>\n",
       "    </tr>\n",
       "    <tr>\n",
       "      <th>19</th>\n",
       "      <td>20</td>\n",
       "      <td>69.871292</td>\n",
       "      <td>94.740060</td>\n",
       "      <td>98.108401</td>\n",
       "      <td>87.573251</td>\n",
       "      <td>3.0</td>\n",
       "    </tr>\n",
       "    <tr>\n",
       "      <th>36</th>\n",
       "      <td>37</td>\n",
       "      <td>78.768867</td>\n",
       "      <td>83.691066</td>\n",
       "      <td>96.695347</td>\n",
       "      <td>86.385093</td>\n",
       "      <td>4.0</td>\n",
       "    </tr>\n",
       "    <tr>\n",
       "      <th>2</th>\n",
       "      <td>3</td>\n",
       "      <td>60.601019</td>\n",
       "      <td>95.253570</td>\n",
       "      <td>100.000000</td>\n",
       "      <td>85.284863</td>\n",
       "      <td>5.0</td>\n",
       "    </tr>\n",
       "    <tr>\n",
       "      <th>...</th>\n",
       "      <td>...</td>\n",
       "      <td>...</td>\n",
       "      <td>...</td>\n",
       "      <td>...</td>\n",
       "      <td>...</td>\n",
       "      <td>...</td>\n",
       "    </tr>\n",
       "    <tr>\n",
       "      <th>84</th>\n",
       "      <td>85</td>\n",
       "      <td>87.996840</td>\n",
       "      <td>41.130088</td>\n",
       "      <td>0.000000</td>\n",
       "      <td>43.042309</td>\n",
       "      <td>96.0</td>\n",
       "    </tr>\n",
       "    <tr>\n",
       "      <th>15</th>\n",
       "      <td>16</td>\n",
       "      <td>88.675676</td>\n",
       "      <td>26.546903</td>\n",
       "      <td>13.686491</td>\n",
       "      <td>42.969690</td>\n",
       "      <td>97.0</td>\n",
       "    </tr>\n",
       "    <tr>\n",
       "      <th>3</th>\n",
       "      <td>4</td>\n",
       "      <td>62.269725</td>\n",
       "      <td>36.379423</td>\n",
       "      <td>25.026747</td>\n",
       "      <td>41.225298</td>\n",
       "      <td>98.0</td>\n",
       "    </tr>\n",
       "    <tr>\n",
       "      <th>52</th>\n",
       "      <td>53</td>\n",
       "      <td>49.986859</td>\n",
       "      <td>55.479297</td>\n",
       "      <td>15.978925</td>\n",
       "      <td>40.481694</td>\n",
       "      <td>99.0</td>\n",
       "    </tr>\n",
       "    <tr>\n",
       "      <th>16</th>\n",
       "      <td>17</td>\n",
       "      <td>35.545707</td>\n",
       "      <td>26.413116</td>\n",
       "      <td>2.699894</td>\n",
       "      <td>21.552906</td>\n",
       "      <td>100.0</td>\n",
       "    </tr>\n",
       "  </tbody>\n",
       "</table>\n",
       "<p>100 rows × 6 columns</p>\n",
       "</div>"
      ],
      "text/plain": [
       "    id      korean    english        math       mean   rank\n",
       "79  80  100.000000  76.405875  100.000000  92.135292    1.0\n",
       "23  24   80.867864  87.536228  100.000000  89.468031    2.0\n",
       "19  20   69.871292  94.740060   98.108401  87.573251    3.0\n",
       "36  37   78.768867  83.691066   96.695347  86.385093    4.0\n",
       "2    3   60.601019  95.253570  100.000000  85.284863    5.0\n",
       "..  ..         ...        ...         ...        ...    ...\n",
       "84  85   87.996840  41.130088    0.000000  43.042309   96.0\n",
       "15  16   88.675676  26.546903   13.686491  42.969690   97.0\n",
       "3    4   62.269725  36.379423   25.026747  41.225298   98.0\n",
       "52  53   49.986859  55.479297   15.978925  40.481694   99.0\n",
       "16  17   35.545707  26.413116    2.699894  21.552906  100.0\n",
       "\n",
       "[100 rows x 6 columns]"
      ]
     },
     "execution_count": 28,
     "metadata": {},
     "output_type": "execute_result"
    }
   ],
   "source": [
    "df.sort_values(by='mean', ascending=False)"
   ]
  },
  {
   "cell_type": "markdown",
   "metadata": {},
   "source": [
    "- stock.csv로부터 데이터 불러오기\n",
    "    - index: Ticker Symbol for Indexes\n",
    "    - Date: Date of Observation\n",
    "    - Open: Opening Price\n",
    "    - High: Highest price during trading day\n",
    "    - Low: Lowest price during trading day\n",
    "    - Close: Close price adjusted for splits\n",
    "    - Adj Close: Adjusted close price adjusted for both dividends and splits\n",
    "    - Volume: Number of shares traded during trading day"
   ]
  },
  {
   "cell_type": "code",
   "execution_count": 29,
   "metadata": {
    "metadata": {}
   },
   "outputs": [],
   "source": [
    "data = pd.read_csv(\"../data/stock.csv\")"
   ]
  },
  {
   "cell_type": "code",
   "execution_count": 30,
   "metadata": {
    "metadata": {}
   },
   "outputs": [],
   "source": [
    "info = pd.read_csv(\"../data/stockInfo.csv\")"
   ]
  },
  {
   "cell_type": "code",
   "execution_count": 31,
   "metadata": {
    "metadata": {}
   },
   "outputs": [
    {
     "data": {
      "text/html": [
       "<div>\n",
       "<style scoped>\n",
       "    .dataframe tbody tr th:only-of-type {\n",
       "        vertical-align: middle;\n",
       "    }\n",
       "\n",
       "    .dataframe tbody tr th {\n",
       "        vertical-align: top;\n",
       "    }\n",
       "\n",
       "    .dataframe thead th {\n",
       "        text-align: right;\n",
       "    }\n",
       "</style>\n",
       "<table border=\"1\" class=\"dataframe\">\n",
       "  <thead>\n",
       "    <tr style=\"text-align: right;\">\n",
       "      <th></th>\n",
       "      <th>Region</th>\n",
       "      <th>Exchange</th>\n",
       "      <th>Index</th>\n",
       "      <th>Currency</th>\n",
       "    </tr>\n",
       "  </thead>\n",
       "  <tbody>\n",
       "    <tr>\n",
       "      <th>0</th>\n",
       "      <td>United States</td>\n",
       "      <td>New York Stock Exchange</td>\n",
       "      <td>NYA</td>\n",
       "      <td>USD</td>\n",
       "    </tr>\n",
       "    <tr>\n",
       "      <th>1</th>\n",
       "      <td>United States</td>\n",
       "      <td>NASDAQ</td>\n",
       "      <td>IXIC</td>\n",
       "      <td>USD</td>\n",
       "    </tr>\n",
       "    <tr>\n",
       "      <th>2</th>\n",
       "      <td>Hong Kong</td>\n",
       "      <td>Hong Kong Stock Exchange</td>\n",
       "      <td>HSI</td>\n",
       "      <td>HKD</td>\n",
       "    </tr>\n",
       "    <tr>\n",
       "      <th>3</th>\n",
       "      <td>China</td>\n",
       "      <td>Shanghai Stock Exchange</td>\n",
       "      <td>000001.SS</td>\n",
       "      <td>CNY</td>\n",
       "    </tr>\n",
       "    <tr>\n",
       "      <th>4</th>\n",
       "      <td>Japan</td>\n",
       "      <td>Tokyo Stock Exchange</td>\n",
       "      <td>N225</td>\n",
       "      <td>JPY</td>\n",
       "    </tr>\n",
       "    <tr>\n",
       "      <th>5</th>\n",
       "      <td>Europe</td>\n",
       "      <td>Euronext</td>\n",
       "      <td>N100</td>\n",
       "      <td>EUR</td>\n",
       "    </tr>\n",
       "    <tr>\n",
       "      <th>6</th>\n",
       "      <td>China</td>\n",
       "      <td>Shenzhen Stock Exchange</td>\n",
       "      <td>399001.SZ</td>\n",
       "      <td>CNY</td>\n",
       "    </tr>\n",
       "    <tr>\n",
       "      <th>7</th>\n",
       "      <td>Canada</td>\n",
       "      <td>Toronto Stock Exchange</td>\n",
       "      <td>GSPTSE</td>\n",
       "      <td>CAD</td>\n",
       "    </tr>\n",
       "    <tr>\n",
       "      <th>8</th>\n",
       "      <td>India</td>\n",
       "      <td>National Stock Exchange of India</td>\n",
       "      <td>NSEI</td>\n",
       "      <td>INR</td>\n",
       "    </tr>\n",
       "    <tr>\n",
       "      <th>9</th>\n",
       "      <td>Germany</td>\n",
       "      <td>Frankfurt Stock Exchange</td>\n",
       "      <td>GDAXI</td>\n",
       "      <td>EUR</td>\n",
       "    </tr>\n",
       "    <tr>\n",
       "      <th>10</th>\n",
       "      <td>Korea</td>\n",
       "      <td>Korea Exchange</td>\n",
       "      <td>KS11</td>\n",
       "      <td>KRW</td>\n",
       "    </tr>\n",
       "    <tr>\n",
       "      <th>11</th>\n",
       "      <td>Switzerland</td>\n",
       "      <td>SIX Swiss Exchange</td>\n",
       "      <td>SSMI</td>\n",
       "      <td>CHF</td>\n",
       "    </tr>\n",
       "    <tr>\n",
       "      <th>12</th>\n",
       "      <td>Taiwan</td>\n",
       "      <td>Taiwan Stock Exchange</td>\n",
       "      <td>TWII</td>\n",
       "      <td>TWD</td>\n",
       "    </tr>\n",
       "    <tr>\n",
       "      <th>13</th>\n",
       "      <td>South Africa</td>\n",
       "      <td>Johannesburg Stock Exchange</td>\n",
       "      <td>J203.JO</td>\n",
       "      <td>ZAR</td>\n",
       "    </tr>\n",
       "  </tbody>\n",
       "</table>\n",
       "</div>"
      ],
      "text/plain": [
       "           Region                          Exchange      Index Currency\n",
       "0   United States           New York Stock Exchange        NYA      USD\n",
       "1   United States                            NASDAQ       IXIC      USD\n",
       "2       Hong Kong          Hong Kong Stock Exchange        HSI      HKD\n",
       "3           China           Shanghai Stock Exchange  000001.SS      CNY\n",
       "4           Japan              Tokyo Stock Exchange       N225      JPY\n",
       "5          Europe                          Euronext       N100      EUR\n",
       "6           China           Shenzhen Stock Exchange  399001.SZ      CNY\n",
       "7          Canada            Toronto Stock Exchange     GSPTSE      CAD\n",
       "8           India  National Stock Exchange of India       NSEI      INR\n",
       "9         Germany          Frankfurt Stock Exchange      GDAXI      EUR\n",
       "10          Korea                    Korea Exchange       KS11      KRW\n",
       "11    Switzerland                SIX Swiss Exchange       SSMI      CHF\n",
       "12         Taiwan             Taiwan Stock Exchange       TWII      TWD\n",
       "13   South Africa       Johannesburg Stock Exchange    J203.JO      ZAR"
      ]
     },
     "execution_count": 31,
     "metadata": {},
     "output_type": "execute_result"
    }
   ],
   "source": [
    "info"
   ]
  },
  {
   "cell_type": "markdown",
   "metadata": {},
   "source": [
    "Stock 'Index'\n",
    "- ['NYA', 'IXIC', 'HSI', '000001.SS', 'GSPTSE', '399001.SZ', 'NSEI','GDAXI', 'KS11', 'SSMI', 'TWII', 'J203.JO', 'N225', 'N100']"
   ]
  },
  {
   "cell_type": "code",
   "execution_count": 32,
   "metadata": {
    "metadata": {}
   },
   "outputs": [],
   "source": [
    "data_NYA = data[data['Index']==\"NYA\"]\n",
    "data_IXIC = data[data['Index']==\"IXIC\"]\n",
    "data_HSI = data[data['Index']==\"HSI\"]"
   ]
  },
  {
   "cell_type": "code",
   "execution_count": 33,
   "metadata": {
    "metadata": {}
   },
   "outputs": [
    {
     "name": "stderr",
     "output_type": "stream",
     "text": [
      "No artists with labels found to put in legend.  Note that artists whose label start with an underscore are ignored when legend() is called with no argument.\n"
     ]
    },
    {
     "data": {
      "text/plain": [
       "<matplotlib.legend.Legend at 0x14b2fdaf0>"
      ]
     },
     "execution_count": 33,
     "metadata": {},
     "output_type": "execute_result"
    },
    {
     "data": {
      "image/png": "[encoded data removed]",
      "text/plain": [
       "<Figure size 1100x600 with 1 Axes>"
      ]
     },
     "metadata": {},
     "output_type": "display_data"
    }
   ],
   "source": [
    "plt.figure(figsize=(11,6))\n",
    "plt.plot(np.arange(0, len(data_NYA), 1), data_NYA['High'])\n",
    "plt.plot(np.arange(0, len(data_IXIC), 1), data_IXIC['High'])\n",
    "plt.plot(np.arange(0, len(data_HSI), 1), data_HSI['High'])\n",
    "plt.grid()\n",
    "plt.legend()"
   ]
  },
  {
   "cell_type": "markdown",
   "metadata": {},
   "source": [
    "이동평균(Moving Average) =  데이터의 이동하는 평균값을 계산하는데 사용되는 방법(주어진 기간의 데이터를 사용하여 해당 기간 동안의 평균을 계산하는 방법)\n",
    "\n",
    "- 여기서는 pandas의 rolling() 메서드를 사용하여 이동평균을 계산하는 방법"
   ]
  },
  {
   "cell_type": "code",
   "execution_count": 34,
   "metadata": {
    "metadata": {}
   },
   "outputs": [
    {
     "data": {
      "image/png": "[encoded data removed]",
      "text/plain": [
       "<Figure size 1100x600 with 1 Axes>"
      ]
     },
     "metadata": {},
     "output_type": "display_data"
    }
   ],
   "source": [
    "series = data_NYA['High']\n",
    "window_size = 300  # 이동평균을 계산할 기간\n",
    "moving_average = series.rolling(window=window_size).mean()\n",
    "\n",
    "plt.figure(figsize=(11,6))\n",
    "plt.plot(np.arange(0, len(data_NYA), 1), data_NYA['High'], color='green')\n",
    "plt.plot(np.arange(0, len(data_NYA), 1), moving_average, color='red')\n",
    "plt.grid()"
   ]
  },
  {
   "cell_type": "markdown",
   "metadata": {},
   "source": [
    "Homework\n",
    "\n",
    "- 위의 그림을 rolling.mean() 메소드를 사용하지 않고, 직접 구현해보기"
   ]
  },
  {
   "cell_type": "code",
   "execution_count": 35,
   "metadata": {
    "metadata": {}
   },
   "outputs": [],
   "source": [
    "series = data_NYA['High']\n",
    "window_size = 100  # 이동평균을 계산할 기간\n",
    "\n",
    "moving_average = []\n",
    "\n",
    "for i in range(len(series)-window_size):\n",
    "    moving_average.append(np.mean(series[i:i+window_size]))"
   ]
  },
  {
   "cell_type": "code",
   "execution_count": 36,
   "metadata": {
    "metadata": {}
   },
   "outputs": [
    {
     "data": {
      "image/png": "[encoded data removed]",
      "text/plain": [
       "<Figure size 1300x500 with 1 Axes>"
      ]
     },
     "metadata": {},
     "output_type": "display_data"
    }
   ],
   "source": [
    "# 시각화\n",
    "plt.figure(figsize=(13,5))\n",
    "plt.plot(series, label='Original Data', color='gray')\n",
    "plt.plot(np.arange(100, len(series), 1), moving_average, label=f'Moving Average (Window Size={window_size})', color='red')\n",
    "plt.legend(loc='upper left')\n",
    "plt.title('Moving Average Data')\n",
    "plt.xlabel('Time')\n",
    "plt.ylabel('Value')\n",
    "plt.grid()"
   ]
  },
  {
   "cell_type": "code",
   "execution_count": 37,
   "metadata": {
    "metadata": {}
   },
   "outputs": [
    {
     "data": {
      "image/png": "[encoded data removed]",
      "text/plain": [
       "<Figure size 1300x500 with 1 Axes>"
      ]
     },
     "metadata": {},
     "output_type": "display_data"
    }
   ],
   "source": [
    "# 시각화\n",
    "plt.figure(figsize=(13,5))\n",
    "plt.plot(series[0:2000], label='Original Data', color='gray')\n",
    "plt.plot(np.arange(100, 2000, 1), moving_average[100:2000], label=f'Moving Average (Window Size={window_size})', color='red')\n",
    "plt.legend(loc='upper left')\n",
    "plt.title('Moving Average Data')\n",
    "plt.xlabel('Time')\n",
    "plt.ylabel('Value')\n",
    "plt.grid()"
   ]
  }
 ],
 "metadata": {
  "kernelspec": {
   "display_name": "palette-basic",
   "language": "python",
   "name": "python3"
  },
  "language_info": {
   "codemirror_mode": {
    "name": "ipython",
    "version": 3
   },
   "file_extension": ".py",
   "mimetype": "text/x-python",
   "name": "python",
   "nbconvert_exporter": "python",
   "pygments_lexer": "ipython3",
   "version": "3.12.2"
  }
 },
 "nbformat": 4,
 "nbformat_minor": 2
}
