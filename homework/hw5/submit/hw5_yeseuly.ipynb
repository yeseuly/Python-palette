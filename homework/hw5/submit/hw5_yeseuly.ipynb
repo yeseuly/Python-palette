{
 "cells": [
  {
   "cell_type": "markdown",
   "metadata": {},
   "source": [
    "# Homework #5\n",
    "\n",
    "- Date: 2024.04.21\n",
    "- Due Date: 2024.04.28"
   ]
  },
  {
   "cell_type": "code",
   "execution_count": 1,
   "metadata": {},
   "outputs": [],
   "source": [
    "import pandas as pd\n",
    "import numpy as np\n",
    "import matplotlib.pyplot as plt"
   ]
  },
  {
   "cell_type": "markdown",
   "metadata": {},
   "source": [
    "## Pandas DataFrame\n",
    "\n",
    "- 판다스(Pandas)는 파이썬에서 데이터 조작과 분석을 위한 라이브러리\n",
    "    - 주로 테이블 형태의 데이터를 다루는 데 사용(판다스의 핵심 데이터 구조는 DataFrame)\n",
    "    - DataFrame은 행과 열이 있는 테이블 데이터 구조를 제공\n",
    "    - 각 열은 서로 다른 유형의 데이터를 포함할 수 있으며, 각 행은 각기 다른 관측치를 나타냄\n",
    "\n",
    "- 판다스의 DataFrame을 생성하고 조작하는 방법은 매우 다양\n",
    "    - 일반적으로 CSV 파일, 엑셀 파일, SQL 데이터베이스 등 다양한 소스에서 데이터를 로드하여 DataFrame 활용"
   ]
  },
  {
   "cell_type": "code",
   "execution_count": 2,
   "metadata": {},
   "outputs": [
    {
     "name": "stdout",
     "output_type": "stream",
     "text": [
      "        이름  나이 성별\n",
      "0    Alice  25  여\n",
      "1      Bob  30  남\n",
      "2  Charlie  35  남\n",
      "3    David  40  여\n"
     ]
    }
   ],
   "source": [
    "# 딕셔너리로부터 DataFrame 생성\n",
    "data = {\n",
    "    '이름': ['Alice', 'Bob', 'Charlie', 'David'],\n",
    "    '나이': [25, 30, 35, 40],\n",
    "    '성별': ['여', '남', '남', '여']\n",
    "}\n",
    "\n",
    "df = pd.DataFrame(data)\n",
    "\n",
    "print(df)"
   ]
  },
  {
   "cell_type": "code",
   "execution_count": 3,
   "metadata": {},
   "outputs": [],
   "source": [
    "# '이름' 열 선택"
   ]
  },
  {
   "cell_type": "code",
   "execution_count": 4,
   "metadata": {},
   "outputs": [],
   "source": [
    "# 특정 조건을 만족하는 행 제거\n"
   ]
  },
  {
   "cell_type": "code",
   "execution_count": 5,
   "metadata": {},
   "outputs": [],
   "source": [
    "data = {\n",
    "    '이름': ['Alice', 'Bob', 'Charlie', 'David'],\n",
    "    '나이': [25, 30, 35, 40],\n",
    "    '성별': ['여', '남', '남', '여']\n",
    "}\n",
    "\n",
    "df = pd.DataFrame(data)\n",
    "\n",
    "# 제거할 행의 인덱스를 제외한 DataFrame 생성\n"
   ]
  },
  {
   "cell_type": "markdown",
   "metadata": {},
   "source": [
    "- pd.concat() 함수를 사용하여 DataFrame을 연결할 때 ignore_index=True를 설정하면 인덱스가 재설정되어 새로운 DataFrame이 생성됩니다. 이를 이용하여 행을 추가할 수 있습니다. 또한, drop() 메서드를 사용하여 특정 인덱스의 행을 제거할 수 있습니다."
   ]
  },
  {
   "cell_type": "code",
   "execution_count": 6,
   "metadata": {},
   "outputs": [],
   "source": [
    "# 기존 DataFrame 생성\n",
    "data1 = {\n",
    "    '이름': ['Alice', 'Bob', 'Charlie'],\n",
    "    '나이': [25, 30, 35],\n",
    "    '성별': ['여', '남', '남']\n",
    "}\n",
    "df1 = pd.DataFrame(data1)\n",
    "\n",
    "# 추가할 행 데이터\n",
    "data2 = {\n",
    "    '이름': ['David'],\n",
    "    '나이': [40],\n",
    "    '성별': ['남']\n",
    "}\n",
    "df2 = pd.DataFrame(data2)\n",
    "\n",
    "# 두 DataFrame을 연결하여 행 추가\n"
   ]
  },
  {
   "cell_type": "markdown",
   "metadata": {},
   "source": [
    "- numpy를 이용한 randaom 행렬 생성"
   ]
  },
  {
   "cell_type": "code",
   "execution_count": 7,
   "metadata": {},
   "outputs": [],
   "source": [
    "# 랜덤한 데이터로 DataFrame 생성\n"
   ]
  },
  {
   "cell_type": "code",
   "execution_count": 8,
   "metadata": {},
   "outputs": [],
   "source": [
    "# 평균과 표준편차 지정\n",
    "mu, sigma = 0, 0.1  # 평균(mu)이 0이고 표준편차(sigma)가 0.1인 가우시안 분포\n",
    "\n",
    "# 난수 생성\n"
   ]
  },
  {
   "cell_type": "markdown",
   "metadata": {},
   "source": [
    "Question 1. Gaussian 난수 생성을 이용하여, 임의의 100명의 학생의 국어, 영어, 수학 과목 성적표를 만드시오.\n",
    "- data[0] = 학번\n",
    "- data[1] = 국어성적 (0~100점 사이, 평균=73, 표준편차=12.3)\n",
    "- data[2] = 영어성적 (0~100점 사이, 평균=67, 표준편차=25.8)\n",
    "- data[3] = 수학성적 (0~100점 사이, 평균=56, 표준편차=32.7)\n",
    "\n",
    "* 단, 0점 이하의 값이 나오는 경우 0점으로, 100점 이상의 값이 나오는 경우 100점으로 처리"
   ]
  },
  {
   "cell_type": "code",
   "execution_count": null,
   "metadata": {},
   "outputs": [],
   "source": []
  },
  {
   "cell_type": "markdown",
   "metadata": {},
   "source": [
    "Question 2. 5번째 열(mean)을 추가하여, 학생별 평균값을 갖는 데이터를 만들어주세요"
   ]
  },
  {
   "cell_type": "code",
   "execution_count": null,
   "metadata": {},
   "outputs": [],
   "source": []
  },
  {
   "cell_type": "markdown",
   "metadata": {},
   "source": [
    "Question 3. 6번째 열(rank)을 추가하여, 등수를 구해주세요."
   ]
  },
  {
   "cell_type": "code",
   "execution_count": null,
   "metadata": {},
   "outputs": [],
   "source": []
  },
  {
   "cell_type": "markdown",
   "metadata": {},
   "source": [
    "- stock.csv로부터 데이터 불러오기\n",
    "    - index: Ticker Symbol for Indexes\n",
    "    - Date: Date of Observation\n",
    "    - Open: Opening Price\n",
    "    - High: Highest price during trading day\n",
    "    - Low: Lowest price during trading day\n",
    "    - Close: Close price adjusted for splits\n",
    "    - Adj Close: Adjusted close price adjusted for both dividends and splits\n",
    "    - Volume: Number of shares traded during trading day"
   ]
  },
  {
   "cell_type": "code",
   "execution_count": 9,
   "metadata": {},
   "outputs": [],
   "source": [
    "data = pd.read_csv(\"data/stock.csv\")"
   ]
  },
  {
   "cell_type": "code",
   "execution_count": 10,
   "metadata": {},
   "outputs": [],
   "source": [
    "info = pd.read_csv(\"data/stockInfo.csv\")"
   ]
  },
  {
   "cell_type": "code",
   "execution_count": 11,
   "metadata": {},
   "outputs": [
    {
     "data": {
      "text/html": [
       "<div>\n",
       "<style scoped>\n",
       "    .dataframe tbody tr th:only-of-type {\n",
       "        vertical-align: middle;\n",
       "    }\n",
       "\n",
       "    .dataframe tbody tr th {\n",
       "        vertical-align: top;\n",
       "    }\n",
       "\n",
       "    .dataframe thead th {\n",
       "        text-align: right;\n",
       "    }\n",
       "</style>\n",
       "<table border=\"1\" class=\"dataframe\">\n",
       "  <thead>\n",
       "    <tr style=\"text-align: right;\">\n",
       "      <th></th>\n",
       "      <th>Region</th>\n",
       "      <th>Exchange</th>\n",
       "      <th>Index</th>\n",
       "      <th>Currency</th>\n",
       "    </tr>\n",
       "  </thead>\n",
       "  <tbody>\n",
       "    <tr>\n",
       "      <th>0</th>\n",
       "      <td>United States</td>\n",
       "      <td>New York Stock Exchange</td>\n",
       "      <td>NYA</td>\n",
       "      <td>USD</td>\n",
       "    </tr>\n",
       "    <tr>\n",
       "      <th>1</th>\n",
       "      <td>United States</td>\n",
       "      <td>NASDAQ</td>\n",
       "      <td>IXIC</td>\n",
       "      <td>USD</td>\n",
       "    </tr>\n",
       "    <tr>\n",
       "      <th>2</th>\n",
       "      <td>Hong Kong</td>\n",
       "      <td>Hong Kong Stock Exchange</td>\n",
       "      <td>HSI</td>\n",
       "      <td>HKD</td>\n",
       "    </tr>\n",
       "    <tr>\n",
       "      <th>3</th>\n",
       "      <td>China</td>\n",
       "      <td>Shanghai Stock Exchange</td>\n",
       "      <td>000001.SS</td>\n",
       "      <td>CNY</td>\n",
       "    </tr>\n",
       "    <tr>\n",
       "      <th>4</th>\n",
       "      <td>Japan</td>\n",
       "      <td>Tokyo Stock Exchange</td>\n",
       "      <td>N225</td>\n",
       "      <td>JPY</td>\n",
       "    </tr>\n",
       "    <tr>\n",
       "      <th>5</th>\n",
       "      <td>Europe</td>\n",
       "      <td>Euronext</td>\n",
       "      <td>N100</td>\n",
       "      <td>EUR</td>\n",
       "    </tr>\n",
       "    <tr>\n",
       "      <th>6</th>\n",
       "      <td>China</td>\n",
       "      <td>Shenzhen Stock Exchange</td>\n",
       "      <td>399001.SZ</td>\n",
       "      <td>CNY</td>\n",
       "    </tr>\n",
       "    <tr>\n",
       "      <th>7</th>\n",
       "      <td>Canada</td>\n",
       "      <td>Toronto Stock Exchange</td>\n",
       "      <td>GSPTSE</td>\n",
       "      <td>CAD</td>\n",
       "    </tr>\n",
       "    <tr>\n",
       "      <th>8</th>\n",
       "      <td>India</td>\n",
       "      <td>National Stock Exchange of India</td>\n",
       "      <td>NSEI</td>\n",
       "      <td>INR</td>\n",
       "    </tr>\n",
       "    <tr>\n",
       "      <th>9</th>\n",
       "      <td>Germany</td>\n",
       "      <td>Frankfurt Stock Exchange</td>\n",
       "      <td>GDAXI</td>\n",
       "      <td>EUR</td>\n",
       "    </tr>\n",
       "    <tr>\n",
       "      <th>10</th>\n",
       "      <td>Korea</td>\n",
       "      <td>Korea Exchange</td>\n",
       "      <td>KS11</td>\n",
       "      <td>KRW</td>\n",
       "    </tr>\n",
       "    <tr>\n",
       "      <th>11</th>\n",
       "      <td>Switzerland</td>\n",
       "      <td>SIX Swiss Exchange</td>\n",
       "      <td>SSMI</td>\n",
       "      <td>CHF</td>\n",
       "    </tr>\n",
       "    <tr>\n",
       "      <th>12</th>\n",
       "      <td>Taiwan</td>\n",
       "      <td>Taiwan Stock Exchange</td>\n",
       "      <td>TWII</td>\n",
       "      <td>TWD</td>\n",
       "    </tr>\n",
       "    <tr>\n",
       "      <th>13</th>\n",
       "      <td>South Africa</td>\n",
       "      <td>Johannesburg Stock Exchange</td>\n",
       "      <td>J203.JO</td>\n",
       "      <td>ZAR</td>\n",
       "    </tr>\n",
       "  </tbody>\n",
       "</table>\n",
       "</div>"
      ],
      "text/plain": [
       "           Region                          Exchange      Index Currency\n",
       "0   United States           New York Stock Exchange        NYA      USD\n",
       "1   United States                            NASDAQ       IXIC      USD\n",
       "2       Hong Kong          Hong Kong Stock Exchange        HSI      HKD\n",
       "3           China           Shanghai Stock Exchange  000001.SS      CNY\n",
       "4           Japan              Tokyo Stock Exchange       N225      JPY\n",
       "5          Europe                          Euronext       N100      EUR\n",
       "6           China           Shenzhen Stock Exchange  399001.SZ      CNY\n",
       "7          Canada            Toronto Stock Exchange     GSPTSE      CAD\n",
       "8           India  National Stock Exchange of India       NSEI      INR\n",
       "9         Germany          Frankfurt Stock Exchange      GDAXI      EUR\n",
       "10          Korea                    Korea Exchange       KS11      KRW\n",
       "11    Switzerland                SIX Swiss Exchange       SSMI      CHF\n",
       "12         Taiwan             Taiwan Stock Exchange       TWII      TWD\n",
       "13   South Africa       Johannesburg Stock Exchange    J203.JO      ZAR"
      ]
     },
     "execution_count": 11,
     "metadata": {},
     "output_type": "execute_result"
    }
   ],
   "source": [
    "info"
   ]
  },
  {
   "cell_type": "markdown",
   "metadata": {},
   "source": [
    "Stock 'Index'\n",
    "- ['NYA', 'IXIC', 'HSI', '000001.SS', 'GSPTSE', '399001.SZ', 'NSEI','GDAXI', 'KS11', 'SSMI', 'TWII', 'J203.JO', 'N225', 'N100']"
   ]
  },
  {
   "cell_type": "code",
   "execution_count": 12,
   "metadata": {},
   "outputs": [],
   "source": [
    "data_NYA = data[data['Index']==\"NYA\"]\n",
    "data_IXIC = data[data['Index']==\"IXIC\"]\n",
    "data_HSI = data[data['Index']==\"HSI\"]"
   ]
  },
  {
   "cell_type": "code",
   "execution_count": null,
   "metadata": {},
   "outputs": [],
   "source": []
  },
  {
   "cell_type": "markdown",
   "metadata": {},
   "source": [
    "이동평균(Moving Average) =  데이터의 이동하는 평균값을 계산하는데 사용되는 방법(주어진 기간의 데이터를 사용하여 해당 기간 동안의 평균을 계산하는 방법)\n",
    "\n",
    "- 여기서는 pandas의 rolling() 메서드를 사용하여 이동평균을 계산하는 방법"
   ]
  },
  {
   "cell_type": "code",
   "execution_count": null,
   "metadata": {},
   "outputs": [],
   "source": []
  },
  {
   "cell_type": "markdown",
   "metadata": {},
   "source": [
    "Homework\n",
    "\n",
    "- 위의 그림을 rolling.mean() 메소드를 사용하지 않고, 직접 구현해보기"
   ]
  },
  {
   "cell_type": "code",
   "execution_count": null,
   "metadata": {},
   "outputs": [],
   "source": []
  }
 ],
 "metadata": {
  "kernelspec": {
   "display_name": "palette-basic",
   "language": "python",
   "name": "python3"
  },
  "language_info": {
   "codemirror_mode": {
    "name": "ipython",
    "version": 3
   },
   "file_extension": ".py",
   "mimetype": "text/x-python",
   "name": "python",
   "nbconvert_exporter": "python",
   "pygments_lexer": "ipython3",
   "version": "3.12.2"
  }
 },
 "nbformat": 4,
 "nbformat_minor": 2
}
