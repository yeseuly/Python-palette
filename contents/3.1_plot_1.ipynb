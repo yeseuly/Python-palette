{
 "cells": [
  {
   "cell_type": "markdown",
   "metadata": {},
   "source": [
    "# Matplotlib 기본 사용법\n",
    "### Pyplot 소개\n",
    "\n",
    "matplotlib.pyplot MATLAB과 비슷하게 명령어 스타일로 동작하는 파이썬 시각화 모듈입니다."
   ]
  },
  {
   "cell_type": "markdown",
   "metadata": {},
   "source": [
    "### 기본 그래프"
   ]
  },
  {
   "cell_type": "code",
   "execution_count": 2,
   "metadata": {},
   "outputs": [],
   "source": [
    "import matplotlib.pyplot as plt\n",
    "\n",
    "# [1, 2, 3, 4]"
   ]
  },
  {
   "cell_type": "markdown",
   "metadata": {},
   "source": [
    "### 스타일 지정\n",
    "\n",
    ": x, y 값 인자에 대해 그래프 선의 색상과 형태를 지정하는 포맷 문자열을 세번째 인자에 입력할 수 있습니다."
   ]
  },
  {
   "cell_type": "code",
   "execution_count": 3,
   "metadata": {},
   "outputs": [],
   "source": [
    "# x=[1, 2, 3, 4] y=[1, 4, 9, 16]\n"
   ]
  },
  {
   "cell_type": "code",
   "execution_count": 4,
   "metadata": {},
   "outputs": [],
   "source": [
    "# x=[10, 20, 30, 40] y=[1, 4, 9, 16]"
   ]
  },
  {
   "cell_type": "markdown",
   "metadata": {},
   "source": [
    "- 첫번째값은 색상, 두번째값은 마커 스타일, 세번째값은 선 스타일을 의미합니다.\n",
    "- 기본 포맷 문자열은 ‘b-‘이고 파란색(‘blue’)와 선(‘-‘)을 의미합니다.\n",
    "- ‘rs-’는 빨간색(‘red’)와 사각형(‘ㅁ’), 선 모양('--')을 의미합니다."
   ]
  },
  {
   "cell_type": "markdown",
   "metadata": {},
   "source": [
    "### 스타일 지정 예시 (pdf 파일 참고)\n",
    "\n",
    "- color='green'\n",
    "- linewidth=3\n",
    "- linestyle='solid'\n",
    "- markersize=15\n",
    "- markeredgecolor='orange'\n",
    "- markeredgewidth=5"
   ]
  },
  {
   "cell_type": "code",
   "execution_count": 5,
   "metadata": {},
   "outputs": [],
   "source": [
    "# x = [10, 20, 30, 40] y = [1, 5, 10, 15]"
   ]
  },
  {
   "cell_type": "markdown",
   "metadata": {},
   "source": [
    "### 그래프 범위 설정\n",
    "\n",
    ": 그래프를 그릴때 원하는 범위를 설정해줍니다."
   ]
  },
  {
   "cell_type": "code",
   "execution_count": 6,
   "metadata": {},
   "outputs": [],
   "source": [
    "# xlim = [0, 50] ylim = [-30, 30]"
   ]
  },
  {
   "cell_type": "markdown",
   "metadata": {},
   "source": [
    "### 그래프 tick 설정\n",
    "\n",
    ": tick 옵션으로 x축과 y축의 라벨을 설정할 수 있습니다."
   ]
  },
  {
   "cell_type": "code",
   "execution_count": 7,
   "metadata": {},
   "outputs": [],
   "source": [
    "import numpy as np\n",
    "\n",
    "X = np.linspace(-np.pi, np.pi, 256)\n",
    "C = np.cos(X)\n",
    "\n",
    "# xticks = [-np.pi, -np.pi / 2, 0, np.pi / 2, np.pi]\n",
    "# yticks = [-1, 0, 1]\n"
   ]
  },
  {
   "cell_type": "markdown",
   "metadata": {},
   "source": [
    "다음과 같이 Latex 문자식으로 표현도 가능합니다."
   ]
  },
  {
   "cell_type": "code",
   "execution_count": 8,
   "metadata": {},
   "outputs": [],
   "source": [
    "# xticks-latex = [r'$-\\pi$', r'$-\\pi/2$', r'$0$', r'$+\\pi/2$', r'$+\\pi$']\n",
    "# yticks-latex = [\"Low\", \"Zero\", \"High\"]\n",
    "\n",
    "X = np.linspace(-np.pi, np.pi, 256)\n",
    "C = np.cos(X)"
   ]
  },
  {
   "cell_type": "markdown",
   "metadata": {},
   "source": [
    "### 여러 개의 그래프 그리기"
   ]
  },
  {
   "cell_type": "code",
   "execution_count": 9,
   "metadata": {},
   "outputs": [],
   "source": [
    "t = np.arange(0., 5., 0.2)\n",
    "\n",
    "# 'r--': t 'b*': t**2 'gs':t***3"
   ]
  },
  {
   "cell_type": "markdown",
   "metadata": {},
   "source": [
    "### 범례\n",
    "\n",
    ": 여러 그래프를 동시에 그릴 경우 각각의 선이 무엇을 나타내는지 표시할 필요가 있습니다. legend 함수를 통해 표현할 수 있으며, loc옵션을 통해 위치를 설정할수도 있습니다."
   ]
  },
  {
   "cell_type": "code",
   "execution_count": 10,
   "metadata": {},
   "outputs": [],
   "source": [
    "X = np.linspace(-np.pi, np.pi, 256)\n",
    "C, S = np.cos(X), np.sin(X)"
   ]
  },
  {
   "cell_type": "markdown",
   "metadata": {},
   "source": [
    "### x축, y축, 제목 설정\n",
    "\n",
    ": x축, y축의 제목을 설정하고, 가장 큰 제목인 title을 설정합니다.\n",
    "\n",
    "- title: Cosine Plot\n",
    "- xlabel: time\n",
    "- ylabel: amplitude"
   ]
  },
  {
   "cell_type": "code",
   "execution_count": 11,
   "metadata": {},
   "outputs": [],
   "source": [
    "X = np.linspace(-np.pi, np.pi, 256)\n",
    "C, S = np.cos(X), np.sin(X)"
   ]
  },
  {
   "cell_type": "markdown",
   "metadata": {},
   "source": [
    "### 그래프의 구조\n",
    "- matplotlib는 Figure 객체, Axes 객체, Axis 객체 등으로 구성되어 있습니다.\n",
    "- Figure는 그림이 그려지는 캔버스나 종이, Axes는 하나의 그래프, Axis는 가로축이나 세로축 등의 축을 의미합니다.\n",
    "- Figure는 주로 여러개의 그래프를 동시에 그리고 싶을때, 그래프의 크기를 설정하고 싶을때 사용합니다."
   ]
  },
  {
   "cell_type": "markdown",
   "metadata": {},
   "source": [
    "### figure 사이즈 설정\n",
    ": (10,2) 사이즈로 그래프를 설정합니다."
   ]
  },
  {
   "cell_type": "code",
   "execution_count": 12,
   "metadata": {},
   "outputs": [],
   "source": [
    "np.random.seed(0)\n",
    "\n",
    "# np.random.randn(100) 사용\n"
   ]
  },
  {
   "cell_type": "markdown",
   "metadata": {},
   "source": [
    "### subplot\n",
    "\n",
    "- 하나의 윈도우(figure)안에 여러개의 그래프를 표현하고 싶을때 사용하는 명령어입니다.\n",
    "- 그리드(grid) 형태의 Axes 객체들을 생성하는데 Figure가 행렬(matrix)이고 Axes가 행렬의 원소라고 생각하면 됩니다.\n",
    "- subplot은 3개의 인자를 가지는데 처음 두개 인자는 전체 그리드 행렬의 모양을 의미하고, 세번째 인자는 여러개의 그래프에서 어느것인지를 의미하는 숫자입니다."
   ]
  },
  {
   "cell_type": "code",
   "execution_count": 13,
   "metadata": {},
   "outputs": [],
   "source": [
    "x1 = np.linspace(0.0, 5.0)\n",
    "x2 = np.linspace(0.0, 2.0)\n",
    "y1 = np.cos(2 * np.pi * x1) * np.exp(-x1)\n",
    "y2 = np.cos(2 * np.pi * x2)"
   ]
  },
  {
   "cell_type": "markdown",
   "metadata": {},
   "source": [
    "### axes\n",
    "subplots 명령어를 사용해서 복수의 Axes 객체를 동시에 생성할 수도 있습니다다."
   ]
  },
  {
   "cell_type": "code",
   "execution_count": 15,
   "metadata": {},
   "outputs": [],
   "source": [
    "np.random.seed(0)"
   ]
  },
  {
   "cell_type": "code",
   "execution_count": null,
   "metadata": {},
   "outputs": [],
   "source": []
  }
 ],
 "metadata": {
  "kernelspec": {
   "display_name": "palette-basic",
   "language": "python",
   "name": "python3"
  },
  "language_info": {
   "codemirror_mode": {
    "name": "ipython",
    "version": 3
   },
   "file_extension": ".py",
   "mimetype": "text/x-python",
   "name": "python",
   "nbconvert_exporter": "python",
   "pygments_lexer": "ipython3",
   "version": "3.12.2"
  }
 },
 "nbformat": 4,
 "nbformat_minor": 2
}
